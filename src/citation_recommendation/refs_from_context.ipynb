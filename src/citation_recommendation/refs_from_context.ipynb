{
 "cells": [
  {
   "cell_type": "code",
   "execution_count": null,
   "id": "f55a1b62",
   "metadata": {},
   "outputs": [],
   "source": [
    "import json\n",
    "#import jsonlines"
   ]
  },
  {
   "cell_type": "code",
   "execution_count": null,
   "id": "2353a60b",
   "metadata": {},
   "outputs": [],
   "source": [
    "filename = 'contexts.json'"
   ]
  },
  {
   "cell_type": "code",
   "execution_count": null,
   "id": "324f40e8",
   "metadata": {},
   "outputs": [],
   "source": [
    "info = dict()\n",
    "with jsonlines.open(filename) as readfile:\n",
    "    for obj in readfile:\n",
    "        refs = []\n",
    "        id = list(obj.keys())[0]\n",
    "        for sentence in obj[id]['local_features']:\n",
    "            for entry in obj[id]['local_features'][sentence]['prev_refs']:\n",
    "                prev_refs = dict(entry)\n",
    "                for ref in prev_refs['refs']:\n",
    "                    refs.append(ref)\n",
    "        info[id] = {'prev_refs': list(set(refs))}"
   ]
  },
  {
   "cell_type": "code",
   "execution_count": null,
   "id": "7ba50c27",
   "metadata": {},
   "outputs": [],
   "source": [
    "# dictionary with corpusID mapped to unique list of previous references included in\n",
    "# citing sentences for query document\n",
    "with open(\"info.json\", \"w\") as outfile:\n",
    "    json.dump(info, outfile)"
   ]
  }
 ],
 "metadata": {
  "kernelspec": {
   "display_name": "Python 3 (ipykernel)",
   "language": "python",
   "name": "python3"
  },
  "language_info": {
   "codemirror_mode": {
    "name": "ipython",
    "version": 3
   },
   "file_extension": ".py",
   "mimetype": "text/x-python",
   "name": "python",
   "nbconvert_exporter": "python",
   "pygments_lexer": "ipython3",
   "version": "3.9.7"
  }
 },
 "nbformat": 4,
 "nbformat_minor": 5
}
