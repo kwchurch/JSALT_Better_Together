{
 "cells": [
  {
   "cell_type": "code",
   "execution_count": null,
   "id": "a0765785",
   "metadata": {},
   "outputs": [],
   "source": [
    "import os\n",
    "from collections import defaultdict, namedtuple\n",
    "\n",
    "import numpy as np\n",
    "import pandas as pd\n",
    "\n",
    "from tqdm import tqdm"
   ]
  },
  {
   "cell_type": "code",
   "execution_count": null,
   "id": "e01cd155",
   "metadata": {},
   "outputs": [],
   "source": [
    "#os.environ['citing_sentences'] = '/data3/jsalt2023/semantic_scholar/releases/2022-12-02/database/citations/citing_sentences/pieces'"
   ]
  },
  {
   "cell_type": "code",
   "execution_count": null,
   "id": "32599b4f",
   "metadata": {},
   "outputs": [],
   "source": [
    "# This should be GLOBUS_DOWNLOAD_PATH/semantic_scholar/releases/2022-12-02/database/citations/citing_sentences/pieces\n",
    "citing_sentences = os.environ.get('citing_sentences')\n",
    "\n",
    "semscho_corpus_ids_to_find = [205376417, 4854301, 9198465, 4310181, 467287]"
   ]
  },
  {
   "cell_type": "markdown",
   "id": "5c35d618",
   "metadata": {},
   "source": [
    "### Helper functions"
   ]
  },
  {
   "cell_type": "code",
   "execution_count": null,
   "id": "a945803d",
   "metadata": {},
   "outputs": [],
   "source": [
    "# Get list of all embeddings in subfolders\n",
    "def get_embedding_list(path):\n",
    "    embedding_list = []\n",
    "    \n",
    "    piece_folder_list = [f for f in os.listdir(path) if os.path.isdir(os.path.join(path, f))]\n",
    "\n",
    "    for piece_folder in piece_folder_list:\n",
    "        piece_subfolder_list = os.listdir(os.path.join(path, piece_folder))\n",
    "        subfolder_embedding_list = [e.split('.')[0] for e in piece_subfolder_list \\\n",
    "                                    if e.split('.')[0]+'.kwc.edges.f' in piece_subfolder_list\n",
    "                                    and e.split('.')[0]+'.kwc.nodes.i' in piece_subfolder_list\n",
    "                                    and 'citing_sentences' not in e]\n",
    "                                                            \n",
    "        embedding_list.extend([(piece_folder, p) for p in sorted(set(subfolder_embedding_list))])\n",
    "    return embedding_list\n",
    "\n",
    "# Load memory-mapped corpus_ids\n",
    "def citation_embedding_from_dir(fn, K):\n",
    "    fn_len = os.path.getsize(fn)\n",
    "    return np.memmap(fn, dtype=np.float32, shape=(int(fn_len/(4*K)), K), mode='r')\n",
    "\n",
    "# Load memory-mapped embeddings\n",
    "def load_citing_sentence_maps(path, K):\n",
    "    embeding_list = get_embedding_list(path)\n",
    "    for piece_folder, embeddings_id in embeding_list:\n",
    "        nmap = np.memmap(os.path.join(path, piece_folder, embeddings_id+'.kwc.nodes.i'), \n",
    "                         dtype=np.int32, shape=(int(8000)), mode='r')\n",
    "        cembs = citation_embedding_from_dir(os.path.join(path, piece_folder, embeddings_id+'.kwc.edges.f'), \n",
    "                                           K)\n",
    "        sent_ids = [os.path.join(piece_folder, embeddings_id)+'_'+str(idx) for idx in range(8000)]\n",
    "        \n",
    "        #assert nmap.shape[0] == cembs.shape[0], f'error loading {os.path.join(path, embeddings_id)}'\n",
    "        yield (nmap, cembs, sent_ids)"
   ]
  },
  {
   "cell_type": "code",
   "execution_count": null,
   "id": "a292edd7",
   "metadata": {},
   "outputs": [],
   "source": [
    "Result = namedtuple(\"Result\", \"emb text\")\n",
    "\n",
    "def get_text_from_path_and_ids(path, use_ids):\n",
    "    use_ids_to_text = {}\n",
    "    # only load text file if we have ids to retrieve\n",
    "    if use_ids:\n",
    "        with open(path, 'r', encoding='utf-8') as fp:\n",
    "            for i, line in enumerate(fp):\n",
    "                if i in set(use_ids):\n",
    "                    use_ids_to_text['/'.join(path.split('/')[-2:])+'_'+str(i)] = line\n",
    "    return(use_ids_to_text)\n",
    "\n",
    "def build_citing_sentence_embedding_text_dict(semscho_corpus_ids_to_find, embedding_iterator, length=0):\n",
    "    '''\n",
    "    returns a dict mapping semantic scholar corpus ids to sentence embeddings and text\n",
    "    inputs:\n",
    "    semscho_corpus_ids_to_find : list of semantic scholar corpus ids to find\n",
    "    embedding_iterator : iterator which yields semantic scholar corpus ids and matched citing sentence embeddings\n",
    "    '''\n",
    "    semscho_corpus_ids_to_cs_embs = defaultdict(list)\n",
    "    for corpus_ids, embs, text_id in tqdm(embedding_iterator, total=length):\n",
    "        use_ids = [(idx, corpid) for idx, corpid in enumerate(corpus_ids) if corpid in semscho_corpus_ids_to_find]\n",
    "\n",
    "        use_ids_to_text = get_text_from_path_and_ids(os.path.join(citing_sentences,\n",
    "                                                                  text_id[0].split('/')[0],\n",
    "                                                                  text_id[0].split('/')[1].split('_')[0]),\n",
    "                                                     [idx for idx, corpid in use_ids])\n",
    "        \n",
    "        for idx, corpid in use_ids:\n",
    "            semscho_corpus_ids_to_cs_embs[corpid].append(Result(np.array(embs[idx]), use_ids_to_text[text_id[idx]]))\n",
    "        \n",
    "    return dict(semscho_corpus_ids_to_cs_embs)"
   ]
  },
  {
   "cell_type": "code",
   "execution_count": null,
   "id": "2cdafd92",
   "metadata": {},
   "outputs": [],
   "source": [
    "mmaps = load_citing_sentence_maps(citing_sentences, K=768)"
   ]
  },
  {
   "cell_type": "code",
   "execution_count": null,
   "id": "b62826f0",
   "metadata": {},
   "outputs": [],
   "source": [
    "semscho_corpus_ids_to_embs_text = build_citing_sentence_embedding_text_dict(semscho_corpus_ids_to_find=semscho_corpus_ids_to_find,\n",
    "                                                                            embedding_iterator=mmaps,\n",
    "                                                                            length=0)"
   ]
  }
 ],
 "metadata": {
  "kernelspec": {
   "display_name": "Python 3 (ipykernel)",
   "language": "python",
   "name": "python3"
  },
  "language_info": {
   "codemirror_mode": {
    "name": "ipython",
    "version": 3
   },
   "file_extension": ".py",
   "mimetype": "text/x-python",
   "name": "python",
   "nbconvert_exporter": "python",
   "pygments_lexer": "ipython3",
   "version": "3.9.16"
  }
 },
 "nbformat": 4,
 "nbformat_minor": 5
}
