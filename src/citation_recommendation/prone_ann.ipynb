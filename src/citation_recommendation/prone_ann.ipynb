{
 "cells": [
  {
   "cell_type": "code",
   "execution_count": 62,
   "id": "938adb3f",
   "metadata": {},
   "outputs": [],
   "source": [
    "import json\n",
    "import urllib\n",
    "import os\n",
    "import requests\n",
    "import json\n",
    "import numpy as np\n",
    "import pandas as pd\n",
    "\n",
    "from collections import defaultdict, namedtuple\n",
    "from tqdm import tqdm"
   ]
  },
  {
   "cell_type": "code",
   "execution_count": 63,
   "id": "fa2c80cd",
   "metadata": {},
   "outputs": [],
   "source": [
    "def record_size_from_dir(dir):\n",
    "    with open(dir + '/record_size', 'r') as fd:\n",
    "        return int(fd.read().split('\\t')[0])\n",
    "\n",
    "def map_from_dir(dir):\n",
    "    fn = dir + '/map.old_to_new.i'\n",
    "    fn_len = os.path.getsize(fn)\n",
    "    return np.memmap(fn, dtype=np.int32, shape=(int(fn_len/4)), mode='r')\n",
    "\n",
    "def embedding_from_dir(dir, K):\n",
    "    fn = dir + '/embedding.f'\n",
    "    fn_len = os.path.getsize(fn)\n",
    "    return np.memmap(fn, dtype=np.float32, shape=(int(fn_len/(4*K)), K), mode='r')\n",
    "\n",
    "def directory_to_config(dir):\n",
    "    K = record_size_from_dir(dir)\n",
    "    return { 'record_size' : K,\n",
    "             'dir' : dir,\n",
    "             'map' : map_from_dir(dir),\n",
    "             'embedding' : embedding_from_dir(dir, K)}"
   ]
  },
  {
   "cell_type": "code",
   "execution_count": 64,
   "id": "10c065ab",
   "metadata": {},
   "outputs": [],
   "source": [
    "d = '/Volumes/JSALT-10T/JSALTdir/semantic_scholar/embeddings/proposed'\n",
    "\n",
    "map0 = config['map']\n",
    "emb0 = config['embedding']"
   ]
  },
  {
   "cell_type": "code",
   "execution_count": 65,
   "id": "9e39e470",
   "metadata": {},
   "outputs": [],
   "source": [
    "def flatten(l):\n",
    "    return [item for sublist in l for item in sublist]\n",
    "\n",
    "# build a named_tuple of idx:[src, tgt]\n",
    "def sem_scho_ids_to_dataset(src_to_tgt_sem_scho_ids):\n",
    "    dataset = {}\n",
    "    for i, (src, tgt) in enumerate(src_to_tgt_sem_scho_ids.items()):\n",
    "        dataset[i] = sample(src, tgt)\n",
    "    return(dataset)"
   ]
  },
  {
   "cell_type": "code",
   "execution_count": 66,
   "id": "d28f1ce7",
   "metadata": {},
   "outputs": [],
   "source": [
    "# intermediate step for leave-one-out\n",
    "paper_id = 16088675\n",
    "leave_one_out = dict()\n",
    "dummy = [17096321, 53531523, 4852360, 11330317, 13091213, 13029280, 3513255, 212734631, 84855733, 10084791, 21463620, 41764805, 20323655, 5733836, 26758480, 33932634, 201212387, 13683813, 7710565, 13677159, 30309488, 206501362, 4704627, 25214071, 20550907]\n",
    "for d in dummy:\n",
    "    l = dummy\n",
    "    l.remove(d)\n",
    "    leave_one_out[d] = l\n",
    "    "
   ]
  },
  {
   "cell_type": "code",
   "execution_count": 67,
   "id": "490e1bcc",
   "metadata": {},
   "outputs": [],
   "source": [
    "ann_out = {}\n",
    "\n",
    "# process one example\n",
    "for k, v in leave_one_out.items():\n",
    "    for idx in v:\n",
    "        try:\n",
    "            paper_emb = emb0[map0[idx]]\n",
    "            arr = np.array(paper_emb)\n",
    "            ann_out[(k, idx)] = arr\n",
    "        except:\n",
    "            print(f'failed with {idx}')"
   ]
  },
  {
   "cell_type": "code",
   "execution_count": 68,
   "id": "0e5e1527",
   "metadata": {},
   "outputs": [],
   "source": [
    "JSALTdir='/Volumes/JSALT-10T/JSALTdir'\n",
    "!export JSALTdir=/Volumes/JSALT-10T/JSALTdir\n",
    "!export JSALTsrc=/Users/melissacmitchell/Documents/research/JSALT/changes/JSALT_Better_Together/src\n",
    "!export proposed=$JSALTdir/semantic_scholar/embeddings/proposed"
   ]
  },
  {
   "cell_type": "code",
   "execution_count": 69,
   "id": "dbeeef03",
   "metadata": {},
   "outputs": [
    {
     "name": "stdout",
     "output_type": "stream",
     "text": [
      "[-1.08762197e-02 -8.22888315e-02  5.57945147e-02  1.17461253e-02\n",
      " -9.85247120e-02  3.26371491e-02  1.42152086e-01  2.27540657e-02\n",
      " -9.18108597e-03 -7.41021484e-02  1.91149600e-02 -7.35447556e-02\n",
      "  9.93810296e-02  4.10923362e-02 -2.35390216e-02  8.44905898e-03\n",
      "  1.25471447e-02  1.93591684e-01 -1.46575866e-03 -1.27604860e-03\n",
      " -2.74218377e-02 -2.19069738e-02  2.53473204e-02  6.73216581e-02\n",
      "  6.65730014e-02 -3.53074670e-02 -1.36303380e-02 -1.13746114e-01\n",
      "  4.32060845e-03  3.46142240e-02 -9.31833014e-02  5.02614900e-02\n",
      " -1.89630032e-01  3.80791770e-03  6.37612641e-02  8.81241485e-02\n",
      "  9.33601782e-02 -3.01767010e-02 -9.95438024e-02 -2.89862929e-03\n",
      "  3.48748751e-02 -7.16617405e-02  1.37317032e-01  4.19444107e-02\n",
      "  3.17958556e-02 -1.78702790e-02 -7.59725943e-02 -3.02933939e-02\n",
      "  1.47152960e-01 -3.10279094e-02 -5.18208779e-02 -8.34400132e-02\n",
      " -8.77052546e-02 -6.40808512e-03  5.98752908e-02 -1.04949936e-01\n",
      " -3.97851132e-02  5.94490301e-03  1.34705016e-02 -7.03794369e-03\n",
      "  3.51301283e-02  4.62906231e-04 -1.18076205e-02  3.60899530e-02\n",
      " -2.24514422e-03 -6.97407573e-02 -2.19307505e-02  4.64829206e-02\n",
      "  6.49379287e-03 -1.94785204e-02  5.60488319e-03  1.00763422e-02\n",
      "  1.86647929e-03  4.21664082e-02 -1.92453736e-03 -2.76202150e-02\n",
      " -2.11412553e-02 -2.01981235e-02 -3.95836048e-02 -4.83285403e-03\n",
      " -5.88517301e-02  5.00849821e-02  4.17367145e-02 -4.38872576e-02\n",
      "  3.48784514e-02 -1.39332870e-02 -1.50388330e-02  2.04434581e-02\n",
      "  3.28437462e-02  7.89840985e-03  2.16227993e-02 -5.91592900e-02\n",
      "  2.68288180e-02 -6.43291837e-03  1.06363576e-02 -2.24573389e-02\n",
      " -2.91231927e-02  4.93371524e-02  2.31205821e-02  8.98389891e-03\n",
      "  1.39575906e-03  6.25658557e-02 -7.22280219e-02 -5.21779656e-02\n",
      " -2.30401792e-02  6.11404888e-02  3.41070088e-04  5.38825020e-02\n",
      " -1.27152260e-02 -5.30857667e-02  2.05945298e-02 -4.31203805e-02\n",
      " -1.55618191e-02 -3.56917791e-02  4.36608084e-02  1.74971353e-02\n",
      "  8.22053477e-03 -2.37041712e-02  2.08698213e-02 -6.18202761e-02\n",
      "  3.25110555e-02  2.28831470e-02 -3.28222639e-03 -5.40052690e-02\n",
      " -7.25312158e-02 -8.17347690e-03 -1.34322830e-02  2.26820819e-02\n",
      " -9.19515081e-03  1.69464350e-02  2.24846806e-02 -1.57896504e-02\n",
      " -3.29269804e-02 -1.73994526e-02  4.87593003e-02  1.28198415e-02\n",
      "  3.14941932e-03 -4.54023443e-02  1.91250365e-04  4.15717214e-02\n",
      " -3.51321697e-02 -4.68497425e-02 -2.69749667e-03 -7.26953382e-03\n",
      "  8.37072656e-02 -4.86662146e-03  2.27481443e-02  5.45395399e-03\n",
      "  3.04623265e-02  1.83061436e-02  4.50281687e-02 -4.08674553e-02\n",
      "  2.51877159e-02 -4.10131067e-02 -8.66879970e-02  1.33956913e-02\n",
      "  3.22141312e-02  9.15231649e-03 -2.82399468e-02  2.84161009e-02\n",
      " -5.98490238e-02  5.62795298e-03 -8.73132981e-03 -4.05404903e-02\n",
      "  3.76843028e-02  7.44614452e-02 -6.56083897e-02 -5.79641536e-02\n",
      "  6.03329577e-02 -6.14605322e-02  2.89422087e-03 -2.23574135e-02\n",
      "  2.21783333e-02 -1.97440595e-03  4.56516864e-03  3.63069363e-02\n",
      " -1.20934406e-02 -8.95653516e-02 -2.49116924e-02  7.97949824e-03\n",
      "  4.64905016e-02 -1.61803178e-02  3.62823829e-02  1.58954002e-02\n",
      " -4.67968918e-02 -6.65540174e-02  2.59655919e-02 -1.55463880e-02\n",
      "  2.62901112e-02  2.44308915e-02  5.25877066e-03 -2.44471412e-02\n",
      "  1.10886414e-02 -1.17251370e-02  1.15113882e-02  4.25499305e-03\n",
      " -1.21224513e-02 -2.15546750e-02 -4.02853526e-02 -3.72660719e-02\n",
      " -1.65547393e-02  1.57995131e-02  2.68693119e-02 -2.12033535e-03\n",
      " -7.79999304e-04 -9.16595964e-05 -1.76388789e-02  7.15321396e-03\n",
      "  1.36342570e-02 -3.51136178e-02  5.98149858e-02 -1.71782519e-03\n",
      "  1.17251594e-02 -2.33086366e-02  2.34415531e-02  3.50501351e-02\n",
      " -2.51935758e-02 -8.23030155e-03  2.51792558e-02 -2.37667542e-02\n",
      "  7.40293646e-03  1.78359374e-02  4.83109429e-02  3.20343412e-02\n",
      "  3.26514803e-02  3.20024900e-02 -6.84965029e-03 -1.35889836e-02\n",
      "  8.57848022e-03 -5.16674481e-03  2.27556587e-03 -1.01243760e-02\n",
      "  2.97037307e-02 -2.10220907e-02 -4.54001501e-03  1.22109184e-03\n",
      "  1.46853523e-02 -2.99413931e-02 -1.00854030e-02 -5.73539268e-03\n",
      " -3.14626619e-02  2.79695000e-02 -2.23561074e-04 -1.24641275e-03\n",
      " -4.92856279e-03  7.45838555e-03  7.14699365e-03 -2.68788058e-02\n",
      " -3.24047878e-02  8.86958931e-03  2.43109856e-02  2.45040786e-02\n",
      " -8.91873054e-03 -2.12566201e-02 -7.29706418e-03 -1.93134286e-02\n",
      " -1.27840787e-02 -5.57703665e-03 -9.08745453e-03  2.33787671e-03\n",
      "  8.58388841e-03 -1.29397297e-02  5.19263232e-03  2.13845656e-03\n",
      " -8.75762757e-03 -8.63817614e-03 -4.11913311e-03 -9.74917930e-05\n",
      "  8.15353170e-03 -6.58270717e-03 -2.54952209e-03 -4.84756334e-03\n",
      "  5.81001583e-03  4.34598746e-03  4.24462045e-03 -5.60624385e-03\n",
      "  2.10396782e-03  5.95463614e-04  2.84652621e-03 -1.28821167e-03]\n"
     ]
    },
    {
     "name": "stderr",
     "output_type": "stream",
     "text": [
      "/var/folders/3g/5sw9jzy51nzcdg131bwkqh2w0000gp/T/ipykernel_54042/1324754142.py:1: FutureWarning: arrays to stack must be passed as a \"sequence\" type such as list or tuple. Support for non-sequence iterables such as generators is deprecated as of NumPy 1.16 and will raise an error in the future.\n",
      "  query = np.mean(np.vstack(ann_out.values()), axis=0)\n"
     ]
    }
   ],
   "source": [
    "query = np.mean(np.vstack(ann_out.values()), axis=0)\n",
    "query.tofile('/tmp/vec')\n",
    "print(query)"
   ]
  },
  {
   "cell_type": "code",
   "execution_count": null,
   "id": "f3dd12b9",
   "metadata": {},
   "outputs": [],
   "source": []
  }
 ],
 "metadata": {
  "kernelspec": {
   "display_name": "Python 3 (ipykernel)",
   "language": "python",
   "name": "python3"
  },
  "language_info": {
   "codemirror_mode": {
    "name": "ipython",
    "version": 3
   },
   "file_extension": ".py",
   "mimetype": "text/x-python",
   "name": "python",
   "nbconvert_exporter": "python",
   "pygments_lexer": "ipython3",
   "version": "3.9.7"
  }
 },
 "nbformat": 4,
 "nbformat_minor": 5
}
