{
 "cells": [
  {
   "cell_type": "markdown",
   "id": "b8450f97",
   "metadata": {},
   "source": [
    "## ID Mappings\n",
    "\n",
    "Code to map IDs to SemScho IDs in a sqlite3 db\n",
    "\n",
    "Requires $SEMSCHO bash variable to be set and pointing to globus_sync/semantic_scholar"
   ]
  },
  {
   "cell_type": "code",
   "execution_count": null,
   "id": "1619a83b",
   "metadata": {},
   "outputs": [],
   "source": [
    "import json\n",
    "import gzip\n",
    "import os\n",
    "from multiprocessing.pool import ThreadPool\n",
    "import pandas as pd\n",
    "from tqdm import tqdm\n",
    "import sqlite3"
   ]
  },
  {
   "cell_type": "markdown",
   "id": "c73bb4d6",
   "metadata": {},
   "source": [
    "### dump files"
   ]
  },
  {
   "cell_type": "code",
   "execution_count": null,
   "id": "593590c9",
   "metadata": {},
   "outputs": [],
   "source": [
    "def dump_from_x_to_y(file_path, k, n, length, dump_loc):\n",
    "    # dump lines from k/n to k+1/n\n",
    "    \n",
    "    start = k * length // n\n",
    "    end = (k + 1) * length // n\n",
    "\n",
    "    with open(dump_loc+'/'+file_path.split('/')[-1]+'dumped'+f'_{k+1}_of_{n}'+'.txt', 'w', encoding='utf-8') as out_file:\n",
    "        with gzip.open(file_path, 'rt') as in_file:\n",
    "\n",
    "            for line_num, line in enumerate(in_file):\n",
    "                if line_num < start:\n",
    "                    continue\n",
    "                elif line_num >= end:\n",
    "                    break\n",
    "                else:\n",
    "                    datum = json.loads(line)\n",
    "                    all_ids =  datum['externalids']\n",
    "                    all_ids = {k:v for k,v in all_ids.items() if v}\n",
    "                    all_maps = [(k.upper()+':'+v, all_ids['CorpusId']) for k,v in all_ids.items() if k != 'CorpusId']\n",
    "\n",
    "                    for k,v in all_maps:\n",
    "                        out_file.write(k+'<@@@>'+v+'\\n')"
   ]
  },
  {
   "cell_type": "code",
   "execution_count": null,
   "id": "5cd9680b",
   "metadata": {},
   "outputs": [],
   "source": [
    "#os.environ['SEMSCHO'] = '/data3/jsalt2023/semantic_scholar/'"
   ]
  },
  {
   "cell_type": "code",
   "execution_count": null,
   "id": "98011239",
   "metadata": {},
   "outputs": [],
   "source": [
    "path = os.path.join(os.environ.get('SEMSCHO'), 'releases/2023-05-09/database/papers/')\n",
    "tmp_txt_path = os.path.join(os.environ.get('SEMSCHO'), 'p.vickers/tmp/')\n",
    "os.makedirs(tmp_txt_path, exist_ok=True) \n",
    "\n",
    "# Get sorted list of paths CORE .json.xz files\n",
    "files = [f for f in os.listdir(path) if f.endswith('.gz')]\n",
    "files.sort(key=lambda x: x.split('.')[0])\n",
    "files = [os.path.join(path, f) for f in files]\n",
    "files = sorted(files)\n",
    "\n",
    "for file in tqdm(files[1:]):\n",
    "    dump_from_x_to_y(file, 0, 1, int(10e10), tmp_txt_path)"
   ]
  },
  {
   "cell_type": "markdown",
   "id": "9d78655b",
   "metadata": {},
   "source": [
    "### now load into sqlite database"
   ]
  },
  {
   "cell_type": "code",
   "execution_count": null,
   "id": "d3aef6bb",
   "metadata": {},
   "outputs": [],
   "source": [
    "# Get sorted list of paths CORE .json.xz files\n",
    "files = [f for f in os.listdir(tmp_txt_path) if f.endswith('.txt')]\n",
    "files.sort(key=lambda x: x.split('.')[0])\n",
    "files = [os.path.join(tmp_txt_path, f) for f in files]\n",
    "files = sorted(files)"
   ]
  },
  {
   "cell_type": "code",
   "execution_count": null,
   "id": "9f912ba3",
   "metadata": {},
   "outputs": [],
   "source": [
    "!rm /data3/jsalt2023/semantic_scholar/p.vickers/id_mappings/*"
   ]
  },
  {
   "cell_type": "code",
   "execution_count": null,
   "id": "7316e29e",
   "metadata": {},
   "outputs": [],
   "source": [
    "db_path"
   ]
  },
  {
   "cell_type": "code",
   "execution_count": null,
   "id": "c62d39bb",
   "metadata": {},
   "outputs": [],
   "source": [
    "db_path = os.path.join(os.environ.get('SEMSCHO'), 'p.vickers/id_mappings')\n",
    "os.makedirs(db_path, exist_ok=True) \n",
    "\n",
    "\n",
    "db = sqlite3.connect(os.path.join(db_path, 'semscho_map.sql'))\n",
    "\n",
    "db.execute('''CREATE TABLE SEMSCHOIDS\n",
    "         (NONSEMSCHOID TEXT      NOT NULL,\n",
    "         SEMSCHOID           INT    NOT NULL);\n",
    "          ''')\n",
    "c = db.cursor()"
   ]
  },
  {
   "cell_type": "code",
   "execution_count": null,
   "id": "408bb66f",
   "metadata": {},
   "outputs": [],
   "source": [
    "for file in tqdm(files):\n",
    "    df = pd.read_csv(file, sep='<@@@>', header=None, engine='python')\n",
    "    c.executemany('INSERT INTO SEMSCHOIDS VALUES (?, ?)', (df.dropna().values))"
   ]
  },
  {
   "cell_type": "code",
   "execution_count": null,
   "id": "f677929c",
   "metadata": {},
   "outputs": [],
   "source": [
    "db.commit()"
   ]
  },
  {
   "cell_type": "code",
   "execution_count": null,
   "id": "977a9ca9",
   "metadata": {},
   "outputs": [],
   "source": [
    "db.execute(\"CREATE INDEX nonsemschoid_hash_index ON SEMSCHOIDS(NONSEMSCHOID)\")"
   ]
  },
  {
   "cell_type": "code",
   "execution_count": null,
   "id": "82ef6d2c",
   "metadata": {},
   "outputs": [],
   "source": [
    "db.commit()\n",
    "db.close()"
   ]
  },
  {
   "cell_type": "markdown",
   "id": "ce626902",
   "metadata": {},
   "source": [
    "###  resolve IDs with multiple threads"
   ]
  },
  {
   "cell_type": "code",
   "execution_count": 81,
   "id": "c00d0085",
   "metadata": {},
   "outputs": [],
   "source": [
    "class semscho_id_resolver():\n",
    "    def __init__(self, db_path=''):\n",
    "        self.db_path = db_path\n",
    "\n",
    "    def __getitem__(self, query_id):\n",
    "        conn = sqlite3.connect(self.db_path)\n",
    "        conn.execute('PRAGMA synchronous = OFF')\n",
    "        cursor = conn.execute(\"SELECT SEMSCHOID from SEMSCHOIDS WHERE NONSEMSCHOID == (?)\", (query_id,))\n",
    "        for row in cursor:\n",
    "            if row:\n",
    "                return row[0]\n",
    "            else:\n",
    "                return None"
   ]
  },
  {
   "cell_type": "code",
   "execution_count": 82,
   "id": "b1002a83",
   "metadata": {},
   "outputs": [],
   "source": [
    "def get_paper_by_ids(ids, prefix=''):\n",
    "    ids_prefixed = [prefix+str(i) for i in ids]    \n",
    "    pool = ThreadPool(processes=os.cpu_count()*4)\n",
    "    semanticScholarIDs = pool.map(resolver.__getitem__, ids_prefixed)\n",
    "    return(semanticScholarIDs)"
   ]
  },
  {
   "cell_type": "code",
   "execution_count": 83,
   "id": "12ca6ac3",
   "metadata": {},
   "outputs": [],
   "source": [
    "resolver = semscho_id_resolver(os.path.join(db_path, 'semscho_map.sql'))"
   ]
  },
  {
   "cell_type": "code",
   "execution_count": 84,
   "id": "adb085e5",
   "metadata": {},
   "outputs": [
    {
     "data": {
      "text/plain": [
       "[None, None, None]"
      ]
     },
     "execution_count": 84,
     "metadata": {},
     "output_type": "execute_result"
    }
   ],
   "source": [
    "get_paper_by_ids([2078170666, 2590133163, 1990210098], prefix='MAG:')"
   ]
  }
 ],
 "metadata": {
  "kernelspec": {
   "display_name": "Python 3 (ipykernel)",
   "language": "python",
   "name": "python3"
  },
  "language_info": {
   "codemirror_mode": {
    "name": "ipython",
    "version": 3
   },
   "file_extension": ".py",
   "mimetype": "text/x-python",
   "name": "python",
   "nbconvert_exporter": "python",
   "pygments_lexer": "ipython3",
   "version": "3.9.16"
  }
 },
 "nbformat": 4,
 "nbformat_minor": 5
}
