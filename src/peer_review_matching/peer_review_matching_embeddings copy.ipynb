{
 "cells": [
  {
   "cell_type": "code",
   "execution_count": 15,
   "outputs": [],
   "source": [
    "import urllib\n",
    "import os\n",
    "import requests\n",
    "import json\n",
    "\n",
    "from collections import defaultdict, namedtuple\n",
    "import urllib.request\n",
    "\n",
    "import numpy as np\n",
    "import pandas as pd\n",
    "\n",
    "import jsonlines\n",
    "import json\n",
    "import time\n",
    "from tqdm import tqdm\n",
    "from numpy import dot\n",
    "from numpy.linalg import norm\n",
    "import statistics"
   ],
   "metadata": {
    "collapsed": false,
    "pycharm": {
     "name": "#%%\n"
    }
   }
  },
  {
   "cell_type": "code",
   "execution_count": 16,
   "outputs": [],
   "source": [
    "def get_paper_by_ids(paperIds):\n",
    "    r = requests.post(\n",
    "        'https://api.semanticscholar.org/graph/v1/paper/batch',\n",
    "        params={'fields': 'citationCount,title,corpusId'},\n",
    "        json={\"ids\": paperIds}\n",
    "    )\n",
    "    return(r.json())"
   ],
   "metadata": {
    "collapsed": false,
    "pycharm": {
     "name": "#%%\n"
    }
   }
  },
  {
   "cell_type": "code",
   "execution_count": 17,
   "outputs": [],
   "source": [
    "# Helpers from https://github.com/kwchurch/JSALT_Better_Together/blob/main/src/create_rotation_matrix.py\n",
    "\n",
    "def record_size_from_dir(dir):\n",
    "    with open(dir + '/record_size', 'r') as fd:\n",
    "        return int(fd.read().split('\\t')[0])\n",
    "\n",
    "def map_from_dir(dir):\n",
    "    fn = dir + '/map.old_to_new.i'\n",
    "    fn_len = os.path.getsize(fn)\n",
    "    return np.memmap(fn, dtype=np.int32, shape=(int(fn_len/4)), mode='r')\n",
    "\n",
    "def embedding_from_dir(dir, K):\n",
    "    fn = dir + '/embedding.f'\n",
    "    fn_len = os.path.getsize(fn)\n",
    "    return np.memmap(fn, dtype=np.float32, shape=(int(fn_len/(4*K)), K), mode='r')\n",
    "\n",
    "def directory_to_config(dir):\n",
    "    K = record_size_from_dir(dir)\n",
    "    return { 'record_size' : K,\n",
    "             'dir' : dir,\n",
    "             'map' : map_from_dir(dir),\n",
    "             'embedding' : embedding_from_dir(dir, K)}"
   ],
   "metadata": {
    "collapsed": false,
    "pycharm": {
     "name": "#%%\n"
    }
   }
  },
  {
   "cell_type": "code",
   "execution_count": 18,
   "outputs": [],
   "source": [
    "specter = '/Volumes/kwc_JSALT/JSALTdir/semantic_scholar/embeddings/specter'\n",
    "proposed = '/Volumes/kwc_JSALT/JSALTdir/semantic_scholar/embeddings/proposed'"
   ],
   "metadata": {
    "collapsed": false,
    "pycharm": {
     "name": "#%%\n"
    }
   }
  },
  {
   "cell_type": "code",
   "execution_count": 19,
   "outputs": [],
   "source": [
    "inputs = specter, proposed\n",
    "\n",
    "configs = [directory_to_config(d) for d in inputs]\n",
    "\n",
    "map0 = configs[0]['map']\n",
    "emb0 = configs[0]['embedding']\n",
    "\n",
    "map1 = configs[1]['map']\n",
    "emb1 = configs[1]['embedding']"
   ],
   "metadata": {
    "collapsed": false,
    "pycharm": {
     "name": "#%%\n"
    }
   }
  },
  {
   "cell_type": "code",
   "execution_count": 20,
   "outputs": [
    {
     "name": "stdout",
     "output_type": "stream",
     "text": [
      "5\n"
     ]
    }
   ],
   "source": [
    "print(map1[8])"
   ],
   "metadata": {
    "collapsed": false,
    "pycharm": {
     "name": "#%%\n"
    }
   }
  },
  {
   "cell_type": "code",
   "execution_count": 21,
   "outputs": [
    {
     "name": "stdout",
     "output_type": "stream",
     "text": [
      "280\n",
      "768\n",
      "0.000  seconds wall time to fetch specter & proposed.\n"
     ]
    }
   ],
   "source": [
    "t0 = time.time() # measure wall time\n",
    "print(len(emb1[map1[278919]]))\n",
    "print(len(emb0[map0[278919]]))\n",
    "print(format(time.time() - t0, \".3f\"), \" seconds wall time to fetch specter & proposed.\")"
   ],
   "metadata": {
    "collapsed": false,
    "pycharm": {
     "name": "#%%\n"
    }
   }
  },
  {
   "cell_type": "code",
   "execution_count": 22,
   "outputs": [],
   "source": [
    "PATH = '/Users/shabnamtafreshi/Desktop/JSULT/paper_reviewer_matching/'\n",
    "softFile = 'test_soft_qrel'\n",
    "hardFile = 'test_hard_qrel'\n",
    "reviewer_metafile = 'reviewer_metadata'"
   ],
   "metadata": {
    "collapsed": false,
    "pycharm": {
     "name": "#%%\n"
    }
   }
  },
  {
   "cell_type": "code",
   "execution_count": null,
   "outputs": [],
   "source": [
    "def gen_corpusId_potential_reviewrs():\n",
    "    t0 = time.time() # measure wall time\n",
    "    specter_dataset: dict\n",
    "    proposed_dataset = {}\n",
    "    corpusId_potential_reviewrs = {}\n",
    "    files = [softFile, hardFile]\n",
    "    for file in files:\n",
    "        with jsonlines.open(PATH + file + '.jsonl') as reader:\n",
    "            for obj in reader:\n",
    "                if 'icip' not in str(obj[\"query_id\"]) and int(obj[\"query_id\"]) not in specter_dataset.keys():\n",
    "                    specter_dataset[obj[\"query_id\"]] = emb0[map0[int(obj[\"query_id\"])].tolist()]\n",
    "                    proposed_dataset[obj[\"query_id\"]] = emb1[map1[int(obj[\"query_id\"])].tolist()]\n",
    "                if 'icip' not in str(obj[\"query_id\"]):\n",
    "                    if str(obj[\"query_id\"]) not in corpusId_potential_reviewrs.keys():\n",
    "                        corpusId_potential_reviewrs[obj[\"query_id\"]] = obj['cand_id']\n",
    "                    else:\n",
    "                        corpusId_potential_reviewrs[obj[\"query_id\"]] += ',' + obj['cand_id']\n",
    "    print(format(time.time() - t0, \".3f\"), \" seconds wall time to fetch specter & proposed.\")\n",
    "    return specter_dataset, proposed_dataset, corpusId_potential_reviewrs"
   ],
   "metadata": {
    "collapsed": false,
    "pycharm": {
     "name": "#%%\n"
    }
   }
  },
  {
   "cell_type": "code",
   "execution_count": null,
   "outputs": [],
   "source": [
    "specter_dataset, proposed_dataset, corpusId_potential_reviewrs = gen_corpusId_potential_reviewrs(softFile, hardFile)"
   ],
   "metadata": {
    "collapsed": false,
    "pycharm": {
     "name": "#%%\n"
    }
   }
  },
  {
   "cell_type": "code",
   "execution_count": 23,
   "outputs": [
    {
     "name": "stdout",
     "output_type": "stream",
     "text": [
      "0.024  seconds wall time to fetch specter & proposed.\n"
     ]
    }
   ],
   "source": [
    "t0 = time.time() # measure wall time\n",
    "specter_dataset = {}\n",
    "proposed_dataset = {}\n",
    "corpusId_potential_reviewrs = {}\n",
    "files = [softFile, hardFile]\n",
    "for file in files:\n",
    "    with jsonlines.open(PATH + file + '.jsonl') as reader:\n",
    "        for obj in reader:\n",
    "            if 'icip' not in str(obj[\"query_id\"]) and int(obj[\"query_id\"]) not in specter_dataset.keys():\n",
    "                specter_dataset[obj[\"query_id\"]] = emb0[map0[int(obj[\"query_id\"])].tolist()]\n",
    "                proposed_dataset[obj[\"query_id\"]] = emb1[map1[int(obj[\"query_id\"])].tolist()]\n",
    "            if 'icip' not in str(obj[\"query_id\"]):\n",
    "                if str(obj[\"query_id\"]) not in corpusId_potential_reviewrs.keys():\n",
    "                    corpusId_potential_reviewrs[obj[\"query_id\"]] = obj['cand_id']\n",
    "                else:\n",
    "                    corpusId_potential_reviewrs[obj[\"query_id\"]] += ',' + obj['cand_id']\n",
    "print(format(time.time() - t0, \".3f\"), \" seconds wall time to fetch specter & proposed.\")"
   ],
   "metadata": {
    "collapsed": false,
    "pycharm": {
     "name": "#%%\n"
    }
   }
  },
  {
   "cell_type": "code",
   "execution_count": 24,
   "outputs": [
    {
     "name": "stdout",
     "output_type": "stream",
     "text": [
      "34\n",
      "34\n"
     ]
    }
   ],
   "source": [
    "print(len(specter_dataset))\n",
    "print(len(proposed_dataset))"
   ],
   "metadata": {
    "collapsed": false,
    "pycharm": {
     "name": "#%%\n"
    }
   }
  },
  {
   "cell_type": "code",
   "execution_count": 29,
   "outputs": [],
   "source": [
    "r_meta_data = []\n",
    "reviewer_readfile = PATH + reviewer_metafile + '.jsonl'\n",
    "with jsonlines.open(reviewer_readfile) as readR:\n",
    "    for obj in readR:\n",
    "        items = get_paper_by_ids(obj['papers'])\n",
    "        temp_data = {\"r_id\": obj[\"r_id\"], 'papers': items}\n",
    "        r_meta_data.append(temp_data)"
   ],
   "metadata": {
    "collapsed": false,
    "pycharm": {
     "name": "#%%\n"
    }
   }
  },
  {
   "cell_type": "code",
   "execution_count": 15,
   "outputs": [],
   "source": [
    "with open(PATH + reviewer_metafile + '_papers_meta.json', 'w', encoding='utf-8') as writefile:\n",
    "    json.dump(r_meta_data, writefile, ensure_ascii=False, indent=4)"
   ],
   "metadata": {
    "collapsed": false,
    "pycharm": {
     "name": "#%%\n"
    }
   }
  },
  {
   "cell_type": "code",
   "execution_count": 30,
   "outputs": [],
   "source": [
    "reviewers_hash = {}\n",
    "for r_meta in r_meta_data:\n",
    "    reviewers_hash[r_meta['r_id']] = r_meta['papers']"
   ],
   "metadata": {
    "collapsed": false,
    "pycharm": {
     "name": "#%%\n"
    }
   }
  },
  {
   "cell_type": "code",
   "execution_count": 31,
   "outputs": [
    {
     "name": "stdout",
     "output_type": "stream",
     "text": [
      "[-4.76485777e+00 -5.82242393e+00 -1.37443289e-01  9.44825172e-01\n",
      " -2.12372780e+00 -1.63317740e+00  4.33732605e+00 -2.78514171e+00\n",
      " -1.05489695e+00  6.34684384e-01 -1.70956481e+00  6.30087280e+00\n",
      " -2.41054630e+00  7.20137358e-01 -4.11513758e+00  1.43669200e+00\n",
      "  7.45488882e-01  2.42300987e+00  1.41638947e+00  2.66247034e+00\n",
      " -1.24050117e+00  3.50233293e+00 -3.86009359e+00 -1.53281081e+00\n",
      " -2.41259003e+00 -6.54624879e-01  2.07140541e+00  3.09908295e+00\n",
      " -3.85731697e-01 -2.12392378e+00  2.00849581e+00 -3.15520048e+00\n",
      "  5.53929901e+00 -5.59345007e-01  1.47879338e+00 -8.52572024e-01\n",
      "  9.57863092e-01  7.26139927e+00 -3.88091779e+00 -1.37052333e+00\n",
      " -2.47357321e+00  3.45721245e+00  4.62212533e-01 -4.96912122e-01\n",
      "  1.58963621e+00 -1.08264661e+00 -1.77406991e+00  5.39235020e+00\n",
      " -4.99304891e-01 -9.99966204e-01  2.22011948e+00  1.48010421e+00\n",
      "  6.24849081e-01 -8.43723893e-01  2.98292017e+00 -3.66626120e+00\n",
      "  6.69024348e-01  2.20757246e+00  3.18392181e+00 -2.78258872e+00\n",
      "  2.49615145e+00  4.41709375e+00  1.27728736e+00  2.47875547e+00\n",
      "  2.50102711e+00 -7.61183596e+00 -2.11817122e+00  5.34517193e+00\n",
      " -1.15750217e+00 -1.24298942e+00 -1.21165133e+00 -3.58727789e+00\n",
      "  1.84760058e+00 -2.68775558e+00  7.72092938e-01  7.48935819e-01\n",
      " -1.87823319e+00 -1.87307703e+00 -4.73249531e+00 -1.21261108e+00\n",
      " -2.59411526e+00  2.04216099e+00  1.32118404e-01  6.58029199e-01\n",
      "  7.06077766e+00 -2.01950479e+00 -4.29881454e-01  1.08228266e+00\n",
      " -4.65079355e+00 -6.03153527e-01 -2.98860478e+00  1.55749691e+00\n",
      "  4.17487240e+00  1.57112861e+00 -5.41719627e+00 -2.56633729e-01\n",
      " -2.10425305e+00  3.58654827e-01 -5.04296398e+00 -1.52809596e+00\n",
      "  6.33136415e+00  1.01430714e-01  1.22170568e+00  1.68516278e+00\n",
      "  4.74520397e+00  4.81462032e-01 -2.37090564e+00 -4.16500747e-01\n",
      "  2.83024430e+00 -2.27066445e+00 -6.24566972e-02  2.69812250e+00\n",
      " -1.69751334e+00 -6.29019439e-01 -1.52790928e+00 -3.67243791e+00\n",
      "  2.13621235e+00  8.62942636e-01 -5.05314732e+00  1.23173106e+00\n",
      "  2.42194220e-01 -4.35965014e+00 -5.03409052e+00  5.28691471e-01\n",
      " -3.17121327e-01  3.17986107e+00  9.14220214e-01  3.08190346e+00\n",
      " -3.01192451e+00 -3.65173912e+00  3.87614918e+00 -1.81027174e+00\n",
      "  2.91621804e+00  8.54781985e-01  4.39531040e+00  2.59735107e+00\n",
      " -2.96966672e+00  9.69429255e-01 -2.05202389e+00 -9.76920128e-01\n",
      "  1.44829082e+00  2.20356274e+00  2.31255436e+00  2.30619144e+00\n",
      " -5.25212526e-01  4.39729309e+00  1.23597777e+00 -6.65078759e-01\n",
      "  2.92014933e+00  2.71018124e+00  4.16788626e+00 -2.38875079e+00\n",
      "  3.18949914e+00  3.57348943e+00  8.83610845e-01  2.15135634e-01\n",
      " -6.80783033e+00  3.43519878e+00 -2.48320246e+00  1.24197280e+00\n",
      "  2.35205889e+00  2.03440762e+00 -4.62896252e+00  2.30853581e+00\n",
      "  6.78504610e+00 -6.28485537e+00  1.57635128e+00  4.41826153e+00\n",
      " -3.45511675e+00  1.14244473e+00  8.72596443e-01 -3.24014997e+00\n",
      "  7.85601616e-01  3.79374337e+00 -7.45789170e-01  3.88998890e+00\n",
      "  4.07845211e+00  1.54851243e-01  4.92970914e-01  1.67911565e+00\n",
      "  7.98934817e-01 -2.26818514e+00 -1.43951976e+00 -3.20963860e+00\n",
      " -5.48477364e+00 -2.93810368e+00 -3.63998008e+00  8.59899879e-01\n",
      "  2.91737765e-02  5.20778751e+00  2.38153720e+00  1.41097224e+00\n",
      "  4.02295256e+00  5.10123062e+00  2.86179376e+00  6.33045316e-01\n",
      " -2.39571095e+00  2.38675976e+00  2.26939797e-01  1.15175104e+00\n",
      "  3.29255271e+00  6.88280344e-01 -4.23490047e+00 -3.33054757e+00\n",
      " -4.53812182e-02  1.19663703e+00 -6.80659890e-01  2.98177505e+00\n",
      "  1.37671006e+00 -2.50423193e+00 -1.70438838e+00 -4.05094337e+00\n",
      " -1.08172703e+00 -5.40640712e-01 -4.16770458e+00 -1.34542322e+00\n",
      " -3.86485845e-01  1.83956170e+00  2.76538801e+00 -2.08412915e-01\n",
      " -1.18511140e+00  3.40324372e-01 -5.07681179e+00 -5.07504165e-01\n",
      "  2.57519007e+00 -8.27144623e+00  5.39185166e-01 -1.07376486e-01\n",
      " -2.48333049e+00  4.09680754e-01 -1.58386374e+00 -1.88068736e+00\n",
      " -8.37065041e-01  1.67691422e+00 -4.62801600e+00 -2.06927657e+00\n",
      " -5.35803032e+00  3.50180411e+00 -1.43918347e+00 -1.95920253e+00\n",
      "  5.14161301e+00  1.32601452e+00  1.44689333e+00  4.67277288e+00\n",
      "  1.69246286e-01  1.81273198e+00 -4.89533424e+00  8.31880927e-01\n",
      "  1.51060736e+00  1.50142932e+00  1.66904315e-01  2.57156193e-01\n",
      " -5.61202765e-02  5.07101893e-01 -5.22230864e-01  3.45718861e-03\n",
      "  3.51092768e+00 -1.68488050e+00  1.48405659e+00  7.28843331e-01\n",
      "  1.01958776e+00  3.96494937e+00 -5.68013477e+00  3.18098688e+00\n",
      " -1.82512844e+00 -2.40720296e+00 -2.99015570e+00 -6.71425056e+00\n",
      " -2.77156496e+00  5.09523249e+00 -2.31531858e-02  1.95437789e+00\n",
      " -1.85885280e-01 -5.55812454e+00 -3.74320984e+00 -1.82191682e+00\n",
      " -6.25870705e+00 -2.03328705e+00  4.18935776e+00  2.03564763e+00\n",
      "  2.16186047e+00  8.91806960e-01  1.89697385e+00 -1.15342844e+00\n",
      " -2.32784557e+00 -3.47772646e+00 -2.83705664e+00  7.50422657e-01\n",
      "  2.90748763e+00 -1.25843123e-01 -6.50355434e+00  1.79380953e+00\n",
      " -1.39253080e+00  3.21024203e+00 -4.00603485e+00  4.93243074e+00\n",
      "  3.59160948e+00  1.26000965e+00  2.32236433e+00  3.80876637e+00\n",
      " -9.56158280e-01  5.34393907e-01  4.56818581e+00  3.33388627e-01\n",
      "  4.25254852e-01 -1.63567662e-01  2.93285847e+00 -2.32796192e+00\n",
      "  1.99913311e+00 -4.61185217e+00 -5.76871395e+00 -2.80216396e-01\n",
      " -2.07383132e+00 -5.23619556e+00  8.79656732e-01  5.51602840e-01\n",
      " -9.35358107e-01  3.14296985e+00  1.72650945e+00  5.25535631e+00\n",
      "  8.18166733e-01  5.00813007e+00  1.01645637e+00  1.69864893e+00\n",
      " -2.06893206e+00  4.39801502e+00  2.88381338e+00 -7.05097318e-01\n",
      "  1.94821489e+00  3.60187471e-01 -9.91961002e-01  1.33908212e+00\n",
      "  2.44092345e-02  5.57768762e-01 -1.90909386e+00 -6.14156723e+00\n",
      "  2.97571588e+00 -1.69609606e+00  1.40441525e+00  1.66259539e+00\n",
      "  1.30180204e+00  3.82209325e+00 -2.49997520e+00 -2.72090346e-01\n",
      " -1.41682315e+00 -3.58408272e-01  7.30080748e+00 -4.27551079e+00\n",
      "  1.72465539e+00 -3.25411409e-02 -2.44599581e-03  3.43901896e+00\n",
      " -1.04899383e+00 -1.97857761e+00  1.35824299e+00  5.27533245e+00\n",
      "  4.74758053e+00  1.11775899e+00  7.22533584e-01  3.07287121e+00\n",
      "  3.34653187e+00 -3.14492869e+00  6.51450038e-01  1.42808843e+00\n",
      "  3.34129930e-02 -2.05063891e+00  5.89999819e+00 -3.20206499e+00\n",
      " -2.78711367e+00 -2.93936491e+00 -4.68524742e+00 -9.49100971e-01\n",
      " -4.83690649e-02  2.29938626e+00 -3.04368281e+00 -3.82356596e+00\n",
      "  1.96801186e+00 -2.03769946e+00  7.80323148e-01  3.78137231e+00\n",
      "  2.51796913e+00  2.26423120e+00  7.20396936e-01  2.54173470e+00\n",
      "  2.28303790e-01 -5.45036316e-01 -2.09818411e+00 -1.85155106e+00\n",
      "  4.52270091e-01  2.08489990e+00  2.14356399e+00  3.41240048e+00\n",
      " -1.09175372e+00  7.23393798e-01 -2.82506824e+00 -5.45529175e+00\n",
      " -3.09878230e+00 -3.69446516e+00  1.06114820e-02 -1.07939422e+00\n",
      "  5.09574413e-01  3.44931936e+00  2.79485798e+00 -6.74179316e-01\n",
      " -2.47413158e+00  1.23440731e+00  4.88394737e+00 -1.99850476e+00\n",
      "  1.78604364e+00  7.51386285e-01 -1.74289083e+00 -2.34553885e+00\n",
      "  7.89325655e-01 -2.45844030e+00 -1.08595753e+00 -1.22745466e+00\n",
      " -1.19040263e+00  3.67167616e+00  5.02428150e+00  1.54513788e+00\n",
      " -1.56980610e+00  4.71426249e+00  6.63674879e+00  1.02386370e-01\n",
      " -1.32272530e+00  2.37943745e+00  1.67500883e-01  1.70088029e+00\n",
      " -3.41555643e+00  1.71749592e+00 -3.69918728e+00  5.82494545e+00\n",
      "  4.48682815e-01 -4.20117950e+00 -3.41008306e-02  3.88464642e+00\n",
      "  6.68720531e+00  2.27952552e+00  2.13715434e+00 -2.73483086e+00\n",
      " -1.15600276e+00  1.83022606e+00 -1.89096332e+00  8.48982430e+00\n",
      "  1.38349128e+00  1.63052297e+00 -2.10832810e+00  7.59586573e-01\n",
      "  5.23714256e+00 -3.75650668e+00  1.99909842e+00 -5.51892710e+00\n",
      " -1.08331895e+00  3.66025949e+00  3.24962348e-01  5.27843237e+00\n",
      " -2.61815405e+00 -9.87330437e-01  7.36041665e-02  3.44646668e+00\n",
      " -5.29195595e+00  4.40347099e+00  1.43063855e+00  9.48696792e-01\n",
      " -1.78653717e-01  6.23843431e+00  5.18608272e-01  2.68656790e-01\n",
      "  2.82625556e-01  1.00634956e+00  4.15888739e+00 -9.82972920e-01\n",
      " -1.77730966e+00 -3.22440481e+00 -1.40737295e+00  2.10653529e-01\n",
      "  2.96764112e+00  2.91855812e+00  1.42103374e-01 -3.26677418e+00\n",
      "  1.01834679e+00 -5.89786148e+00  3.91625071e+00  1.25683153e+00\n",
      " -1.17718530e+00  1.74478781e+00  3.73655272e+00  2.75898409e+00\n",
      "  4.37246943e+00  5.21954107e+00 -1.61290693e+00  5.48956543e-02\n",
      "  6.57047844e+00  1.82740831e+00  3.96506429e-01 -8.01902950e-01\n",
      " -3.54170847e+00  2.13071585e+00 -5.19919395e-01  6.39287829e-01\n",
      "  3.19427800e+00 -1.41339016e+00 -4.22905684e-02  1.51192760e+00\n",
      " -2.28461027e+00  3.03965020e+00  8.41571236e+00 -2.25545704e-01\n",
      " -3.69365788e+00 -1.50954342e+00 -6.58298016e-01 -1.06252944e+00\n",
      " -4.30725813e+00 -2.49932170e-01 -2.63600373e+00 -1.37001300e+00\n",
      " -2.33159733e+00 -1.28051281e+00 -2.22743940e+00 -1.32732630e+00\n",
      "  1.55126178e+00 -1.66530728e-01 -4.11019564e-01  2.10080934e+00\n",
      "  2.67286801e+00  2.55573845e+00 -6.05626297e+00  6.92605495e-01\n",
      "  3.35489178e+00  2.96194124e+00  2.84012794e+00  1.75534999e+00\n",
      "  1.96432090e+00 -3.38621569e+00 -5.14084530e+00 -4.17685413e+00\n",
      " -2.23762727e+00  5.00972557e+00  1.73941076e-01 -1.32199085e+00\n",
      " -2.89922738e+00  4.33642864e+00  5.51168919e-01  3.55907607e+00\n",
      "  2.67533684e+00 -4.59805906e-01 -3.16922426e+00 -3.99315548e+00\n",
      "  2.17596024e-01  3.89379787e+00  4.63911438e+00 -6.28842711e-02\n",
      "  2.37925243e+00  1.79691088e+00 -2.67387438e+00 -2.58809417e-01\n",
      " -2.73499846e+00 -3.44292688e+00  2.94513369e+00  3.24421835e+00\n",
      " -1.51035702e+00 -1.41258633e+00  1.63802946e+00  6.52399838e-01\n",
      " -7.83100367e-01 -7.41819143e-01  3.77731514e+00  1.93698311e+00\n",
      " -4.21055198e-01 -2.32444978e+00  6.61620796e-01 -2.45462179e+00\n",
      " -1.85959685e+00  1.32666171e-01 -1.48454797e+00  1.38058078e+00\n",
      "  5.03842163e+00  2.35991526e+00 -4.52382231e+00 -6.46651685e-01\n",
      " -1.81692648e+00 -2.77994609e+00 -4.09302330e+00 -7.42523527e+00\n",
      "  6.75939620e-01 -4.90851784e+00 -1.80711877e+00  1.74616873e-01\n",
      " -6.27065182e+00  2.54202962e+00  1.84771609e+00 -1.83157051e+00\n",
      " -1.77492237e+00 -3.36344600e+00 -4.05939817e+00 -1.34375513e+00\n",
      "  3.72709846e+00 -1.84361160e+00  4.98107374e-02 -4.78920788e-01\n",
      "  8.70821714e-01  3.01945925e+00  1.63604319e+00  3.15831351e+00\n",
      "  4.01418388e-01  2.10722709e+00  1.97825873e+00 -2.41808391e+00\n",
      " -3.80062610e-01  4.69239807e+00 -1.25516963e+00  9.81031299e-01\n",
      "  1.31756382e+01 -5.71992159e-01 -8.28090012e-02 -4.21998405e+00\n",
      " -4.30355310e+00 -3.92616606e+00 -7.76988149e-01  2.76531386e+00\n",
      " -6.51986003e-01  5.86650991e+00  2.77763414e+00 -1.90736055e+00\n",
      " -1.54134259e-01  1.65828800e+00 -6.10576391e+00 -2.23285890e+00\n",
      "  3.52812111e-02 -6.75481081e-01  9.83476639e-06  4.33395100e+00\n",
      " -3.14256978e+00  9.42600191e-01  1.81586277e+00 -2.88644910e+00\n",
      " -3.88232517e+00  3.68005562e+00  7.35483229e-01 -1.51971221e+00\n",
      " -2.48423505e+00  7.61888742e-01 -1.90572858e-01  1.87671399e+00\n",
      " -2.17869878e+00  5.41758239e-01 -3.20635676e+00  1.07473922e+00\n",
      "  5.28815699e+00 -2.03698635e+00  2.32961226e+00 -3.42573309e+00\n",
      "  2.61498785e+00  5.23350775e-01 -2.44254446e+00  1.62761414e+00\n",
      " -5.64836597e+00 -6.24203742e-01  1.83056855e+00 -1.54707217e+00\n",
      " -2.67740083e+00  5.71310186e+00  3.75296640e+00  1.10258985e+00\n",
      " -8.71518135e-01  1.59204936e+00  5.30406177e-01  7.21745431e-01\n",
      " -1.79719460e+00 -5.90311337e+00  1.20861721e+00 -4.87533391e-01\n",
      " -3.25639296e+00  8.90401065e-01 -1.37076306e+00 -6.14301968e+00\n",
      "  1.26811850e+00 -2.05938727e-01 -2.95115423e+00  3.30090857e+00\n",
      "  5.81281424e-01 -3.23748946e-01  1.77559865e+00  1.96192169e+00\n",
      "  4.82374334e+00 -5.25683165e+00 -1.24153399e+00 -4.91409302e+00\n",
      "  1.80745840e-01 -2.33199030e-01  1.39904499e+00  2.90526819e+00\n",
      " -2.92769814e+00  1.19562745e-02 -2.40811062e+00 -9.02144790e-01\n",
      "  4.55883646e+00 -7.86690116e-01 -2.40447950e+00  2.02313399e+00\n",
      " -1.14155710e+00 -1.62772942e+00  3.59357178e-01  1.13519049e+00\n",
      " -6.98787808e-01  2.29305983e+00  3.04660273e+00 -7.19761038e+00\n",
      " -6.96595860e+00  5.33697307e-02 -2.37624574e+00 -3.88313437e+00\n",
      "  5.32153082e+00  3.84659958e+00  2.84888840e+00 -6.69208884e-01\n",
      "  1.40533006e+00 -3.67318535e+00  8.09423447e-01 -3.47591758e+00\n",
      " -5.02517176e+00 -5.03105545e+00 -8.32239687e-01 -5.30140972e+00\n",
      "  3.03195193e-02  9.85133886e-01 -1.38626695e+00 -1.00935626e+00\n",
      "  3.50594234e+00  1.48325360e+00  3.77254081e+00  3.87222481e+00\n",
      "  8.31292510e-01 -1.15376711e+00 -9.55227017e-01 -4.13092136e+00\n",
      " -1.64994037e+00 -2.87439466e+00 -1.63950300e+00 -1.85431480e-01\n",
      " -1.23818159e-01 -2.80279160e+00 -1.55583835e+00 -1.53181148e+00\n",
      "  2.20832753e+00 -2.49221921e-01 -2.36651754e+00 -1.47695982e+00\n",
      "  3.19536042e+00  3.35049868e-01 -3.62564230e+00  2.43371773e+00\n",
      "  1.82410169e+00 -2.06123996e+00  3.68939877e-01  6.83103991e+00\n",
      " -3.02183342e+00  1.70557165e+00 -5.34604549e-01 -4.71135616e+00\n",
      " -2.17043805e+00  8.40014577e-01 -1.06968832e+00 -1.47432256e+00\n",
      "  4.46473408e+00 -2.06687555e-01  5.84837556e-01 -2.54462337e+00]\n"
     ]
    }
   ],
   "source": [
    "print(specter_dataset['1446998'])\n",
    "#print(potential_reviewrs['777798'])"
   ],
   "metadata": {
    "collapsed": false,
    "pycharm": {
     "name": "#%%\n"
    }
   }
  },
  {
   "cell_type": "code",
   "execution_count": 35,
   "outputs": [],
   "source": [
    "final_results = []\n",
    "foo = 0\n",
    "bar = 0\n",
    "for corpusId, potential_reviewrs in corpusId_potential_reviewrs.items():\n",
    "    parts = potential_reviewrs.split(',')\n",
    "    for reviewerID in parts:\n",
    "        #print(reviewerID)\n",
    "        specter_cosines = []\n",
    "        proposed_cosines = []\n",
    "        counter = 0\n",
    "        if reviewerID in reviewers_hash.keys():\n",
    "            for k in range(len(reviewers_hash[reviewerID])):\n",
    "                #print(reviewers_hash[reviewerID][k]['corpusId'])\n",
    "                if reviewers_hash[reviewerID][k] is not None and int(reviewers_hash[reviewerID][k]['corpusId']) in map0:\n",
    "                    #print(reviewers_hash[reviewerID][k]['corpusId'])\n",
    "                    specter_dataset[reviewers_hash[reviewerID][k]['corpusId']] = emb0[map0[int(reviewers_hash[reviewerID][k]['corpusId'])].tolist()]\n",
    "                    proposed_dataset[reviewers_hash[reviewerID][k]['corpusId']] = emb1[map1[int(reviewers_hash[reviewerID][k]['corpusId'])].tolist()]\n",
    "                    # Calculating cosign similarity\n",
    "                    specter_cosines.append(dot(specter_dataset[corpusId], specter_dataset[reviewers_hash[reviewerID][k]['corpusId']])/(norm(specter_dataset[corpusId])*norm(specter_dataset[reviewers_hash[reviewerID][k]['corpusId']])))\n",
    "                    proposed_cosines.append(dot(proposed_dataset[corpusId], proposed_dataset[reviewers_hash[reviewerID][k]['corpusId']])/(norm(proposed_dataset[corpusId])*norm(proposed_dataset[reviewers_hash[reviewerID][k]['corpusId']])))\n",
    "                    counter += 1\n",
    "\n",
    "            if len(specter_cosines) < 3:\n",
    "                num_of_papers = len(specter_cosines)\n",
    "                foo += 1\n",
    "            else:\n",
    "                num_of_papers = 3\n",
    "                bar += 1\n",
    "\n",
    "            if len(specter_cosines) == 0:\n",
    "                mean_specter_cosines = 0\n",
    "                mean_proposed_cosines = 0\n",
    "\n",
    "            else:\n",
    "                mean_specter_cosines = statistics.mean(sorted(specter_cosines[:num_of_papers]))\n",
    "                mean_proposed_cosines = statistics.mean(sorted(proposed_cosines[:num_of_papers]))\n",
    "            final_results.append({'corpusId': corpusId, 'r_id': reviewerID,\n",
    "                                  'specter_score': str(mean_specter_cosines), 'proposed_score': str(mean_proposed_cosines),\n",
    "                                  'numOfPapers': counter, 'numOfPapersWEmbed': num_of_papers})"
   ],
   "metadata": {
    "collapsed": false,
    "pycharm": {
     "name": "#%%\n"
    }
   }
  },
  {
   "cell_type": "code",
   "execution_count": 36,
   "outputs": [
    {
     "name": "stdout",
     "output_type": "stream",
     "text": [
      "2092\n",
      "28\n",
      "2064\n"
     ]
    }
   ],
   "source": [
    "print(len(final_results))\n",
    "print(foo)\n",
    "print(bar)"
   ],
   "metadata": {
    "collapsed": false,
    "pycharm": {
     "name": "#%%\n"
    }
   }
  },
  {
   "cell_type": "code",
   "execution_count": 37,
   "outputs": [],
   "source": [
    "with open(PATH + reviewer_metafile + '_papers_meta_scores.json', 'w', encoding='utf-8') as writefile:\n",
    "    json.dump(final_results, writefile, ensure_ascii=False, indent=4)"
   ],
   "metadata": {
    "collapsed": false,
    "pycharm": {
     "name": "#%%\n"
    }
   }
  }
 ],
 "metadata": {
  "kernelspec": {
   "display_name": "Python 3",
   "language": "python",
   "name": "python3"
  },
  "language_info": {
   "codemirror_mode": {
    "name": "ipython",
    "version": 2
   },
   "file_extension": ".py",
   "mimetype": "text/x-python",
   "name": "python",
   "nbconvert_exporter": "python",
   "pygments_lexer": "ipython2",
   "version": "2.7.6"
  }
 },
 "nbformat": 4,
 "nbformat_minor": 0
}