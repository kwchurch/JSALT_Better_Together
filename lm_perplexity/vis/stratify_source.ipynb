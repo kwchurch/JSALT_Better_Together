{
 "cells": [
  {
   "cell_type": "code",
   "execution_count": 1,
   "id": "f2f6b882-2c2e-42c1-9fcf-243a596a2674",
   "metadata": {},
   "outputs": [],
   "source": [
    "import numpy as np, os, sys, matplotlib.pyplot as plt, seaborn as sns, pandas"
   ]
  },
  {
   "cell_type": "code",
   "execution_count": 2,
   "id": "5f018977-516c-4579-9a77-0d8563c66a43",
   "metadata": {},
   "outputs": [],
   "source": [
    "def get_dict_of_arrays(exp_model_dict, read_directory='../log_calculations/unified_outputs/', fname_to_read='pppl.npy',convert_for_plot=True):\n",
    "    np_arrays = {}\n",
    "    \n",
    "    for exp, models in exp_model_dict.items():\n",
    "        for model in models:\n",
    "            file_name = os.path.join(read_directory, exp, model, fname_to_read)\n",
    "            if convert_for_plot:\n",
    "                np_arrays[model] = get_xy(np.load(file_name))\n",
    "            else:\n",
    "                np_arrays[model] = np.load(file_name)\n",
    "\n",
    "    return np_arrays"
   ]
  },
  {
   "cell_type": "code",
   "execution_count": 3,
   "id": "393a4ab4-98de-40d7-b517-c69f1644dea1",
   "metadata": {},
   "outputs": [],
   "source": [
    "def get_dict_of_df(df_dict, read_directory='../log_calculations/unified_outputs/', fname_to_read='filtered_df.csv'):\n",
    "    \n",
    "    dfs = {}\n",
    "    \n",
    "    for exp, models in df_dict.items():\n",
    "        for model in models:\n",
    "            file_name = os.path.join(read_directory, exp, model, fname_to_read)\n",
    "            dfs[model] = pandas.read_csv(file_name)\n",
    "    return dfs"
   ]
  },
  {
   "cell_type": "code",
   "execution_count": 4,
   "id": "1d13b0e9-a53e-400e-bfa4-ac705377997f",
   "metadata": {},
   "outputs": [
    {
     "data": {
      "text/plain": [
       "{'bert-base-cased':       Unnamed: 0  bin  local_id   corpusid  \\\n",
       " 0              0    0         0   82212221   \n",
       " 1              1    0         1   31685335   \n",
       " 2              2    0         2   37429768   \n",
       " 3              4    0         4   71292698   \n",
       " 4              5    0         5   43937120   \n",
       " ...          ...  ...       ...        ...   \n",
       " 8672       10995   99       995  256901121   \n",
       " 8673       10996   99       996  257171538   \n",
       " 8674       10997   99       997  256932495   \n",
       " 8675       10998   99       998  257990226   \n",
       " 8676       10999   99       999  258384706   \n",
       " \n",
       "                                                abstract  \\\n",
       " 0     The action of adenosine, muscle and yeast aden...   \n",
       " 1     Introduction. Since the observation by Koch 1 ...   \n",
       " 2     The following paper is based on the results ob...   \n",
       " 3     If the oral treatment for syphilis were as eff...   \n",
       " 4     me by an invitation to contribute on the subje...   \n",
       " ...                                                 ...   \n",
       " 8672  Consider the integer best approximations of a ...   \n",
       " 8673  Abstract Salivary duct carcinoma (SDC) is a ra...   \n",
       " 8674  Penelitian ini bertujuan untuk mengetahui stra...   \n",
       " 8675  Particulate matter in Computer Numerical Contr...   \n",
       " 8676  Axel Honneth’s latest work The Working Soverei...   \n",
       " \n",
       "                                                  tokens  num_unique_tokens  \\\n",
       " 0     [101, 1109, 2168, 1104, 8050, 26601, 10606, 11...                 39   \n",
       " 1     [101, 13813, 119, 1967, 1103, 8310, 1118, 1616...                 41   \n",
       " 2     [101, 1109, 1378, 2526, 1110, 1359, 1113, 1103...                 49   \n",
       " 3     [101, 1409, 1103, 9619, 3252, 1111, 188, 1183,...                 43   \n",
       " 4     [101, 1143, 1118, 1126, 8727, 1106, 8681, 1113...                 44   \n",
       " ...                                                 ...                ...   \n",
       " 8672  [101, 25515, 1103, 18157, 1436, 22519, 1116, 1...                 48   \n",
       " 8673  [101, 138, 4832, 15017, 18613, 12416, 1616, 26...                 45   \n",
       " 8674  [101, 23544, 21091, 11969, 1107, 1182, 1129, 3...                 46   \n",
       " 8675  [101, 4539, 26748, 2187, 1107, 6701, 151, 1544...                 41   \n",
       " 8676  [101, 20575, 10942, 6097, 1324, 787, 188, 6270...                 45   \n",
       " \n",
       "       num_total_tokens  num_unk_tokens langdetect  \n",
       " 0                  128               0         en  \n",
       " 1                  128               0         en  \n",
       " 2                  128               0         en  \n",
       " 3                  128               0         en  \n",
       " 4                  128               0         en  \n",
       " ...                ...             ...        ...  \n",
       " 8672               128               0         en  \n",
       " 8673               128               0         en  \n",
       " 8674               128               0         id  \n",
       " 8675               128               0         en  \n",
       " 8676               128               0         en  \n",
       " \n",
       " [8677 rows x 10 columns]}"
      ]
     },
     "execution_count": 4,
     "metadata": {},
     "output_type": "execute_result"
    }
   ],
   "source": [
    "models = {'filter_newline' : ['bert-base-cased']}\n",
    "\n",
    "dfs = get_dict_of_df(models)\n",
    "dfs\n"
   ]
  },
  {
   "cell_type": "code",
   "execution_count": null,
   "id": "0934ec38-78fb-41af-8e59-964406832e1b",
   "metadata": {},
   "outputs": [],
   "source": []
  }
 ],
 "metadata": {
  "kernelspec": {
   "display_name": "jsalt_env",
   "language": "python",
   "name": "jsalt_env"
  },
  "language_info": {
   "codemirror_mode": {
    "name": "ipython",
    "version": 3
   },
   "file_extension": ".py",
   "mimetype": "text/x-python",
   "name": "python",
   "nbconvert_exporter": "python",
   "pygments_lexer": "ipython3",
   "version": "3.10.4"
  }
 },
 "nbformat": 4,
 "nbformat_minor": 5
}
