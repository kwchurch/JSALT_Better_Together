{
 "cells": [
  {
   "cell_type": "code",
   "execution_count": 1,
   "id": "a85de9d0-5f0c-4e02-99c4-1dd585ad4fdc",
   "metadata": {},
   "outputs": [],
   "source": [
    "import numpy as np, os, sys, matplotlib.pyplot as plt, seaborn as sns, pandas, orjson\n",
    "from tqdm.notebook import tqdm\n",
    "from mosestokenizer import MosesTokenizer\n",
    "from transformers import AutoTokenizer\n",
    "\n",
    "tqdm.pandas()\n",
    "\n",
    "import logging\n",
    "logging.disable(logging.INFO)"
   ]
  },
  {
   "cell_type": "code",
   "execution_count": 2,
   "id": "153c339b-3940-4f02-987e-cd0389b3e60a",
   "metadata": {},
   "outputs": [],
   "source": [
    "def get_dict_of_df(df_dict, read_directory='../log_calculations/unified_outputs/', fname_to_read='filtered_df.csv'):\n",
    "    \n",
    "    dfs = {}\n",
    "    read_dirs = []\n",
    "    for exp, models in df_dict.items():\n",
    "        for model in models:\n",
    "            file_name = os.path.join(read_directory, exp, model, fname_to_read)\n",
    "            read_dirs.append(os.path.join(read_directory, exp, model))\n",
    "            dfs[model] = pandas.read_csv(file_name)\n",
    "    return dfs, read_dirs"
   ]
  },
  {
   "cell_type": "code",
   "execution_count": 3,
   "id": "26e94da0-69b7-4894-acbb-1c2a36334da0",
   "metadata": {},
   "outputs": [],
   "source": [
    "models = {\n",
    "    'every_5_5000' : ['allenai/scibert_scivocab_cased', 'bert-base-cased', 'roberta-base', 'xlm-roberta-base']\n",
    "}\n",
    "\n",
    "dfs, read_dirs = get_dict_of_df(models, fname_to_read='filtered_df_with_source.tsv')"
   ]
  },
  {
   "cell_type": "code",
   "execution_count": 4,
   "id": "c62bc132-1883-4335-beb6-72ec3b5ac2a1",
   "metadata": {},
   "outputs": [
    {
     "data": {
      "text/plain": [
       "0           en\n",
       "19          de\n",
       "206         fr\n",
       "211         es\n",
       "286         nl\n",
       "638         id\n",
       "966         af\n",
       "1427        ca\n",
       "1497        pt\n",
       "1756        no\n",
       "1896        fi\n",
       "2083        it\n",
       "2151        ja\n",
       "2281        ru\n",
       "2561        pl\n",
       "3751        sv\n",
       "4647        ko\n",
       "5458        cy\n",
       "8278        cs\n",
       "9107        tr\n",
       "9123     zh-cn\n",
       "11499       vi\n",
       "13825       hr\n",
       "15169       sl\n",
       "16519       et\n",
       "20484       ar\n",
       "22367       fa\n",
       "23589       bg\n",
       "24231       hu\n",
       "24657       uk\n",
       "29646       ro\n",
       "30590    zh-tw\n",
       "32546       da\n",
       "34920       lv\n",
       "37522       sk\n",
       "43195       tl\n",
       "45572       el\n",
       "49076       lt\n",
       "49187       mk\n",
       "51561       th\n",
       "56058       so\n",
       "66114       he\n",
       "68487       hi\n",
       "76982       sw\n",
       "96362       sq\n",
       "84817       bn\n",
       "Name: langdetect, dtype: object"
      ]
     },
     "execution_count": 4,
     "metadata": {},
     "output_type": "execute_result"
    }
   ],
   "source": [
    "languages = pandas.concat([df['langdetect'] for _, df in dfs.items()], axis=0).drop_duplicates()\n",
    "languages"
   ]
  },
  {
   "cell_type": "code",
   "execution_count": 5,
   "id": "764d1bca-cc60-44c4-a3dd-4951d412b8d2",
   "metadata": {},
   "outputs": [],
   "source": [
    "tokenizers = {}\n",
    "for lang in languages:\n",
    "    tokenizers[lang] = MosesTokenizer(lang)"
   ]
  },
  {
   "cell_type": "code",
   "execution_count": 6,
   "id": "9f65ab12-4765-4bcd-94ce-f5239ad5b55d",
   "metadata": {},
   "outputs": [
    {
     "data": {
      "application/json": {
       "ascii": false,
       "bar_format": null,
       "colour": null,
       "elapsed": 0.004868030548095703,
       "initial": 0,
       "n": 0,
       "ncols": null,
       "nrows": 13,
       "postfix": null,
       "prefix": "",
       "rate": null,
       "total": 97413,
       "unit": "it",
       "unit_divisor": 1000,
       "unit_scale": false
      },
      "application/vnd.jupyter.widget-view+json": {
       "model_id": "446198875b124a21a93f0146ad3e0119",
       "version_major": 2,
       "version_minor": 0
      },
      "text/plain": [
       "  0%|          | 0/97413 [00:00<?, ?it/s]"
      ]
     },
     "metadata": {},
     "output_type": "display_data"
    },
    {
     "data": {
      "application/json": {
       "ascii": false,
       "bar_format": null,
       "colour": null,
       "elapsed": 0.00497889518737793,
       "initial": 0,
       "n": 0,
       "ncols": null,
       "nrows": 13,
       "postfix": null,
       "prefix": "",
       "rate": null,
       "total": 97413,
       "unit": "it",
       "unit_divisor": 1000,
       "unit_scale": false
      },
      "application/vnd.jupyter.widget-view+json": {
       "model_id": "ce5b277bd9e74e1fb56b4446b7af476e",
       "version_major": 2,
       "version_minor": 0
      },
      "text/plain": [
       "  0%|          | 0/97413 [00:00<?, ?it/s]"
      ]
     },
     "metadata": {},
     "output_type": "display_data"
    },
    {
     "data": {
      "application/json": {
       "ascii": false,
       "bar_format": null,
       "colour": null,
       "elapsed": 0.010553836822509766,
       "initial": 0,
       "n": 0,
       "ncols": null,
       "nrows": 13,
       "postfix": null,
       "prefix": "",
       "rate": null,
       "total": 98168,
       "unit": "it",
       "unit_divisor": 1000,
       "unit_scale": false
      },
      "application/vnd.jupyter.widget-view+json": {
       "model_id": "d3bbdd3d2c3441cc84ca1ca7d4bd658e",
       "version_major": 2,
       "version_minor": 0
      },
      "text/plain": [
       "  0%|          | 0/98168 [00:00<?, ?it/s]"
      ]
     },
     "metadata": {},
     "output_type": "display_data"
    },
    {
     "data": {
      "application/json": {
       "ascii": false,
       "bar_format": null,
       "colour": null,
       "elapsed": 0.006218433380126953,
       "initial": 0,
       "n": 0,
       "ncols": null,
       "nrows": 13,
       "postfix": null,
       "prefix": "",
       "rate": null,
       "total": 98168,
       "unit": "it",
       "unit_divisor": 1000,
       "unit_scale": false
      },
      "application/vnd.jupyter.widget-view+json": {
       "model_id": "52d1ce314f3641e8bbd1c115c1112b32",
       "version_major": 2,
       "version_minor": 0
      },
      "text/plain": [
       "  0%|          | 0/98168 [00:00<?, ?it/s]"
      ]
     },
     "metadata": {},
     "output_type": "display_data"
    },
    {
     "data": {
      "application/json": {
       "ascii": false,
       "bar_format": null,
       "colour": null,
       "elapsed": 0.006088733673095703,
       "initial": 0,
       "n": 0,
       "ncols": null,
       "nrows": 13,
       "postfix": null,
       "prefix": "",
       "rate": null,
       "total": 97587,
       "unit": "it",
       "unit_divisor": 1000,
       "unit_scale": false
      },
      "application/vnd.jupyter.widget-view+json": {
       "model_id": "388dc7faae5b4036808fc2ba598c39d8",
       "version_major": 2,
       "version_minor": 0
      },
      "text/plain": [
       "  0%|          | 0/97587 [00:00<?, ?it/s]"
      ]
     },
     "metadata": {},
     "output_type": "display_data"
    },
    {
     "data": {
      "application/json": {
       "ascii": false,
       "bar_format": null,
       "colour": null,
       "elapsed": 0.005276679992675781,
       "initial": 0,
       "n": 0,
       "ncols": null,
       "nrows": 13,
       "postfix": null,
       "prefix": "",
       "rate": null,
       "total": 97587,
       "unit": "it",
       "unit_divisor": 1000,
       "unit_scale": false
      },
      "application/vnd.jupyter.widget-view+json": {
       "model_id": "0b03df8cfc4d44b3a27c273302e366eb",
       "version_major": 2,
       "version_minor": 0
      },
      "text/plain": [
       "  0%|          | 0/97587 [00:00<?, ?it/s]"
      ]
     },
     "metadata": {},
     "output_type": "display_data"
    },
    {
     "data": {
      "application/json": {
       "ascii": false,
       "bar_format": null,
       "colour": null,
       "elapsed": 0.00677800178527832,
       "initial": 0,
       "n": 0,
       "ncols": null,
       "nrows": 13,
       "postfix": null,
       "prefix": "",
       "rate": null,
       "total": 98157,
       "unit": "it",
       "unit_divisor": 1000,
       "unit_scale": false
      },
      "application/vnd.jupyter.widget-view+json": {
       "model_id": "3ff9014d6d644f85b4ddaff4a520916b",
       "version_major": 2,
       "version_minor": 0
      },
      "text/plain": [
       "  0%|          | 0/98157 [00:00<?, ?it/s]"
      ]
     },
     "metadata": {},
     "output_type": "display_data"
    },
    {
     "data": {
      "application/json": {
       "ascii": false,
       "bar_format": null,
       "colour": null,
       "elapsed": 0.00468134880065918,
       "initial": 0,
       "n": 0,
       "ncols": null,
       "nrows": 13,
       "postfix": null,
       "prefix": "",
       "rate": null,
       "total": 98157,
       "unit": "it",
       "unit_divisor": 1000,
       "unit_scale": false
      },
      "application/vnd.jupyter.widget-view+json": {
       "model_id": "938b78a5308a4f2f8250b031544d3650",
       "version_major": 2,
       "version_minor": 0
      },
      "text/plain": [
       "  0%|          | 0/98157 [00:00<?, ?it/s]"
      ]
     },
     "metadata": {},
     "output_type": "display_data"
    }
   ],
   "source": [
    "for model, df in dfs.items():\n",
    "    tokenizer = AutoTokenizer.from_pretrained(model)\n",
    "    df['abstract_input'] = df['tokens'].progress_apply(lambda x: tokenizer.decode(eval(x)[1:-1]))\n",
    "    df['num_moses_tokens'] = df[['langdetect', 'abstract_input']].progress_apply(lambda x: len(tokenizers[x.langdetect](x.abstract_input)), axis=1)"
   ]
  },
  {
   "cell_type": "code",
   "execution_count": 7,
   "id": "3e5efc31-b7cb-4d8a-979f-65f365e3272b",
   "metadata": {},
   "outputs": [
    {
     "name": "stdout",
     "output_type": "stream",
     "text": [
      "../log_calculations/unified_outputs/every_5_5000/allenai/scibert_scivocab_cased\n",
      "allenai/scibert_scivocab_cased\n",
      "../log_calculations/unified_outputs/every_5_5000/bert-base-cased\n",
      "bert-base-cased\n",
      "../log_calculations/unified_outputs/every_5_5000/roberta-base\n",
      "roberta-base\n",
      "../log_calculations/unified_outputs/every_5_5000/xlm-roberta-base\n",
      "xlm-roberta-base\n"
     ]
    }
   ],
   "source": [
    "for (model, df), dir in zip(dfs.items(), read_dirs):\n",
    "    print(dir)\n",
    "    print(model)\n",
    "    df.to_csv(os.path.join(dir, 'filtered_df_with_moses_tokens.tsv'))"
   ]
  }
 ],
 "metadata": {
  "kernelspec": {
   "display_name": "jsalt_env",
   "language": "python",
   "name": "jsalt_env"
  },
  "language_info": {
   "codemirror_mode": {
    "name": "ipython",
    "version": 3
   },
   "file_extension": ".py",
   "mimetype": "text/x-python",
   "name": "python",
   "nbconvert_exporter": "python",
   "pygments_lexer": "ipython3",
   "version": "3.10.4"
  }
 },
 "nbformat": 4,
 "nbformat_minor": 5
}
