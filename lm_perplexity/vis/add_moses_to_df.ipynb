{
 "cells": [
  {
   "cell_type": "code",
   "execution_count": 1,
   "id": "a85de9d0-5f0c-4e02-99c4-1dd585ad4fdc",
   "metadata": {},
   "outputs": [],
   "source": [
    "import numpy as np, os, sys, matplotlib.pyplot as plt, seaborn as sns, pandas, orjson\n",
    "from tqdm.notebook import tqdm\n",
    "from mosestokenizer import MosesTokenizer\n",
    "from transformers import AutoTokenizer\n",
    "\n",
    "tqdm.pandas()\n",
    "\n",
    "import logging\n",
    "logging.disable(logging.INFO)"
   ]
  },
  {
   "cell_type": "code",
   "execution_count": 2,
   "id": "153c339b-3940-4f02-987e-cd0389b3e60a",
   "metadata": {},
   "outputs": [],
   "source": [
    "def get_dict_of_df(df_dict, read_directory='../log_calculations/unified_outputs/', fname_to_read='filtered_df.csv'):\n",
    "    \n",
    "    dfs = {}\n",
    "    read_dirs = []\n",
    "    for exp, models in df_dict.items():\n",
    "        for model in models:\n",
    "            file_name = os.path.join(read_directory, exp, model, fname_to_read)\n",
    "            read_dirs.append(os.path.join(read_directory, exp, model))\n",
    "            dfs[model] = pandas.read_csv(file_name)\n",
    "    return dfs, read_dirs"
   ]
  },
  {
   "cell_type": "code",
   "execution_count": 4,
   "id": "26e94da0-69b7-4894-acbb-1c2a36334da0",
   "metadata": {},
   "outputs": [],
   "source": [
    "models = {\n",
    "    # 'every_5_5000' : ['allenai/scibert_scivocab_cased', 'bert-base-cased', 'roberta-base', 'xlm-roberta-base']\n",
    "    'every_5_5000' : ['bert-large-cased']\n",
    "}\n",
    "\n",
    "dfs, read_dirs = get_dict_of_df(models, fname_to_read='filtered_df_with_source.tsv')"
   ]
  },
  {
   "cell_type": "code",
   "execution_count": 5,
   "id": "c62bc132-1883-4335-beb6-72ec3b5ac2a1",
   "metadata": {},
   "outputs": [
    {
     "data": {
      "text/plain": [
       "0           en\n",
       "19          de\n",
       "207         fr\n",
       "212         es\n",
       "286         nl\n",
       "639         id\n",
       "967         af\n",
       "1427        ca\n",
       "1497        pt\n",
       "1758        no\n",
       "1899        fi\n",
       "2085        it\n",
       "2154        ja\n",
       "2284        ru\n",
       "2565        pl\n",
       "3752        sv\n",
       "4650        ko\n",
       "5472        cy\n",
       "8316        cs\n",
       "9155        tr\n",
       "9172     zh-cn\n",
       "12977       fa\n",
       "13942       hr\n",
       "16111       et\n",
       "19208       vi\n",
       "20703       ar\n",
       "21548       sl\n",
       "23840       bg\n",
       "24489       hu\n",
       "24919       uk\n",
       "29960       ro\n",
       "32891       da\n",
       "35295       lv\n",
       "37157    zh-tw\n",
       "37908       sk\n",
       "41657       sq\n",
       "43624       tl\n",
       "46012       el\n",
       "49544       lt\n",
       "49654       mk\n",
       "52049       th\n",
       "56578       so\n",
       "66675       he\n",
       "69065       hi\n",
       "77635       sw\n",
       "Name: langdetect, dtype: object"
      ]
     },
     "execution_count": 5,
     "metadata": {},
     "output_type": "execute_result"
    }
   ],
   "source": [
    "languages = pandas.concat([df['langdetect'] for _, df in dfs.items()], axis=0).drop_duplicates()\n",
    "languages"
   ]
  },
  {
   "cell_type": "code",
   "execution_count": 6,
   "id": "764d1bca-cc60-44c4-a3dd-4951d412b8d2",
   "metadata": {},
   "outputs": [],
   "source": [
    "tokenizers = {}\n",
    "for lang in languages:\n",
    "    tokenizers[lang] = MosesTokenizer(lang)\n",
    "    \n"
   ]
  },
  {
   "cell_type": "code",
   "execution_count": 7,
   "id": "9f65ab12-4765-4bcd-94ce-f5239ad5b55d",
   "metadata": {},
   "outputs": [
    {
     "data": {
      "application/json": {
       "ascii": false,
       "bar_format": null,
       "colour": null,
       "elapsed": 0.0037200450897216797,
       "initial": 0,
       "n": 0,
       "ncols": null,
       "nrows": 17,
       "postfix": null,
       "prefix": "",
       "rate": null,
       "total": 98168,
       "unit": "it",
       "unit_divisor": 1000,
       "unit_scale": false
      },
      "application/vnd.jupyter.widget-view+json": {
       "model_id": "1aaa6a0d408740f39e90471f0bd4cdab",
       "version_major": 2,
       "version_minor": 0
      },
      "text/plain": [
       "  0%|          | 0/98168 [00:00<?, ?it/s]"
      ]
     },
     "metadata": {},
     "output_type": "display_data"
    },
    {
     "data": {
      "application/json": {
       "ascii": false,
       "bar_format": null,
       "colour": null,
       "elapsed": 0.0049664974212646484,
       "initial": 0,
       "n": 0,
       "ncols": null,
       "nrows": 17,
       "postfix": null,
       "prefix": "",
       "rate": null,
       "total": 98168,
       "unit": "it",
       "unit_divisor": 1000,
       "unit_scale": false
      },
      "application/vnd.jupyter.widget-view+json": {
       "model_id": "2ef796145bc34735a0b8df546e6432c1",
       "version_major": 2,
       "version_minor": 0
      },
      "text/plain": [
       "  0%|          | 0/98168 [00:00<?, ?it/s]"
      ]
     },
     "metadata": {},
     "output_type": "display_data"
    }
   ],
   "source": [
    "for model, df in dfs.items():\n",
    "    tokenizer = AutoTokenizer.from_pretrained(model)\n",
    "    df['abstract_input'] = df['tokens'].progress_apply(lambda x: tokenizer.decode(eval(x)[1:-1]))\n",
    "    df['num_moses_tokens'] = df[['langdetect', 'abstract_input']].progress_apply(lambda x: len(tokenizers[x.langdetect](x.abstract_input)), axis=1)"
   ]
  },
  {
   "cell_type": "code",
   "execution_count": null,
   "id": "3e5efc31-b7cb-4d8a-979f-65f365e3272b",
   "metadata": {},
   "outputs": [
    {
     "name": "stdout",
     "output_type": "stream",
     "text": [
      "../log_calculations/unified_outputs/every_5_5000/bert-large-cased\n",
      "bert-large-cased\n"
     ]
    }
   ],
   "source": [
    "for (model, df), dir in zip(dfs.items(), read_dirs):\n",
    "    print(dir)\n",
    "    print(model)\n",
    "    df.to_csv(os.path.join(dir, 'filtered_df_with_moses_tokens.tsv'))"
   ]
  },
  {
   "cell_type": "code",
   "execution_count": null,
   "id": "668d2587-0ab4-48b9-a2a7-9c97c99372dd",
   "metadata": {},
   "outputs": [],
   "source": []
  }
 ],
 "metadata": {
  "kernelspec": {
   "display_name": "jsalt_env",
   "language": "python",
   "name": "jsalt_env"
  },
  "language_info": {
   "codemirror_mode": {
    "name": "ipython",
    "version": 3
   },
   "file_extension": ".py",
   "mimetype": "text/x-python",
   "name": "python",
   "nbconvert_exporter": "python",
   "pygments_lexer": "ipython3",
   "version": "3.10.4"
  }
 },
 "nbformat": 4,
 "nbformat_minor": 5
}
