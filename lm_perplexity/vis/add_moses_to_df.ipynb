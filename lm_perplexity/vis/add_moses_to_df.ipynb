{
 "cells": [
  {
   "cell_type": "code",
   "execution_count": 2,
   "id": "a85de9d0-5f0c-4e02-99c4-1dd585ad4fdc",
   "metadata": {},
   "outputs": [],
   "source": [
    "import numpy as np, os, sys, matplotlib.pyplot as plt, seaborn as sns, pandas, orjson\n",
    "from tqdm.notebook import tqdm\n",
    "from mosestokenizer import MosesTokenizer\n",
    "from transformers import AutoTokenizer\n",
    "\n",
    "tqdm.pandas()\n",
    "\n",
    "import logging\n",
    "logging.disable(logging.INFO)"
   ]
  },
  {
   "cell_type": "code",
   "execution_count": 3,
   "id": "153c339b-3940-4f02-987e-cd0389b3e60a",
   "metadata": {},
   "outputs": [],
   "source": [
    "def get_dict_of_df(df_dict, read_directory='../log_calculations/unified_outputs/', fname_to_read='filtered_df.csv'):\n",
    "    \n",
    "    dfs = {}\n",
    "    read_dirs = []\n",
    "    for exp, models in df_dict.items():\n",
    "        for model in models:\n",
    "            file_name = os.path.join(read_directory, exp, model, fname_to_read)\n",
    "            read_dirs.append(os.path.join(read_directory, exp, model))\n",
    "            dfs[model] = pandas.read_csv(file_name)\n",
    "    return dfs, read_dirs"
   ]
  },
  {
   "cell_type": "code",
   "execution_count": 4,
   "id": "26e94da0-69b7-4894-acbb-1c2a36334da0",
   "metadata": {},
   "outputs": [],
   "source": [
    "models = {\n",
    "    # 'every_5_5000' : ['allenai/scibert_scivocab_cased', 'bert-base-cased', 'roberta-base', 'xlm-roberta-base']\n",
    "    'every_5_5000' : ['bert-base-multilingual-cased']\n",
    "}\n",
    "\n",
    "dfs, read_dirs = get_dict_of_df(models, fname_to_read='filtered_df_with_source.tsv')"
   ]
  },
  {
   "cell_type": "code",
   "execution_count": 5,
   "id": "c62bc132-1883-4335-beb6-72ec3b5ac2a1",
   "metadata": {},
   "outputs": [
    {
     "data": {
      "text/plain": [
       "0           en\n",
       "19          de\n",
       "205         fr\n",
       "210         es\n",
       "283         nl\n",
       "634         id\n",
       "962         af\n",
       "1421        ca\n",
       "1490        pt\n",
       "1751        no\n",
       "1893        fi\n",
       "2078        it\n",
       "2147        ja\n",
       "2278        ru\n",
       "2558        pl\n",
       "3742        sv\n",
       "4638        ko\n",
       "5463        cy\n",
       "8310        cs\n",
       "9156        tr\n",
       "9173     zh-cn\n",
       "13944       hr\n",
       "16109       et\n",
       "19205       vi\n",
       "20706       ar\n",
       "21550       sl\n",
       "22606       fa\n",
       "23845       bg\n",
       "24493       hu\n",
       "24923       uk\n",
       "29969       ro\n",
       "32908       da\n",
       "37183    zh-tw\n",
       "37940       sk\n",
       "43649       tl\n",
       "43873       lv\n",
       "46035       el\n",
       "49571       lt\n",
       "49682       mk\n",
       "52079       th\n",
       "56614       so\n",
       "66688       he\n",
       "69072       hi\n",
       "77584       sw\n",
       "96989       sq\n",
       "Name: langdetect, dtype: object"
      ]
     },
     "execution_count": 5,
     "metadata": {},
     "output_type": "execute_result"
    }
   ],
   "source": [
    "languages = pandas.concat([df['langdetect'] for _, df in dfs.items()], axis=0).drop_duplicates()\n",
    "languages"
   ]
  },
  {
   "cell_type": "code",
   "execution_count": 11,
   "id": "764d1bca-cc60-44c4-a3dd-4951d412b8d2",
   "metadata": {},
   "outputs": [],
   "source": [
    "tokenizers = {}\n",
    "for lang in languages:\n",
    "    tokenizers[lang] = MosesTokenizer(lang)\n",
    "    \n"
   ]
  },
  {
   "cell_type": "code",
   "execution_count": 12,
   "id": "9f65ab12-4765-4bcd-94ce-f5239ad5b55d",
   "metadata": {},
   "outputs": [
    {
     "data": {
      "application/json": {
       "ascii": false,
       "bar_format": null,
       "colour": null,
       "elapsed": 0.0051305294036865234,
       "initial": 0,
       "n": 0,
       "ncols": null,
       "nrows": 13,
       "postfix": null,
       "prefix": "",
       "rate": null,
       "total": 98041,
       "unit": "it",
       "unit_divisor": 1000,
       "unit_scale": false
      },
      "application/vnd.jupyter.widget-view+json": {
       "model_id": "cd8598a1d15c43c5841e690671992194",
       "version_major": 2,
       "version_minor": 0
      },
      "text/plain": [
       "  0%|          | 0/98041 [00:00<?, ?it/s]"
      ]
     },
     "metadata": {},
     "output_type": "display_data"
    },
    {
     "data": {
      "application/json": {
       "ascii": false,
       "bar_format": null,
       "colour": null,
       "elapsed": 0.005213022232055664,
       "initial": 0,
       "n": 0,
       "ncols": null,
       "nrows": 13,
       "postfix": null,
       "prefix": "",
       "rate": null,
       "total": 98041,
       "unit": "it",
       "unit_divisor": 1000,
       "unit_scale": false
      },
      "application/vnd.jupyter.widget-view+json": {
       "model_id": "d112b5669ec041caa72fba6d64a32393",
       "version_major": 2,
       "version_minor": 0
      },
      "text/plain": [
       "  0%|          | 0/98041 [00:00<?, ?it/s]"
      ]
     },
     "metadata": {},
     "output_type": "display_data"
    }
   ],
   "source": [
    "for model, df in dfs.items():\n",
    "    tokenizer = AutoTokenizer.from_pretrained(model)\n",
    "    df['abstract_input'] = df['tokens'].progress_apply(lambda x: tokenizer.decode(eval(x)[1:-1]))\n",
    "    df['num_moses_tokens'] = df[['langdetect', 'abstract_input']].progress_apply(lambda x: len(tokenizers[x.langdetect](x.abstract_input)), axis=1)"
   ]
  },
  {
   "cell_type": "code",
   "execution_count": 13,
   "id": "3e5efc31-b7cb-4d8a-979f-65f365e3272b",
   "metadata": {},
   "outputs": [
    {
     "name": "stdout",
     "output_type": "stream",
     "text": [
      "../log_calculations/unified_outputs/every_5_5000/bert-base-multilingual-cased\n",
      "bert-base-multilingual-cased\n"
     ]
    }
   ],
   "source": [
    "for (model, df), dir in zip(dfs.items(), read_dirs):\n",
    "    print(dir)\n",
    "    print(model)\n",
    "    df.to_csv(os.path.join(dir, 'filtered_df_with_moses_tokens.tsv'))"
   ]
  },
  {
   "cell_type": "code",
   "execution_count": null,
   "id": "668d2587-0ab4-48b9-a2a7-9c97c99372dd",
   "metadata": {},
   "outputs": [],
   "source": []
  }
 ],
 "metadata": {
  "kernelspec": {
   "display_name": "jsalt_env",
   "language": "python",
   "name": "jsalt_env"
  },
  "language_info": {
   "codemirror_mode": {
    "name": "ipython",
    "version": 3
   },
   "file_extension": ".py",
   "mimetype": "text/x-python",
   "name": "python",
   "nbconvert_exporter": "python",
   "pygments_lexer": "ipython3",
   "version": "3.10.4"
  }
 },
 "nbformat": 4,
 "nbformat_minor": 5
}
