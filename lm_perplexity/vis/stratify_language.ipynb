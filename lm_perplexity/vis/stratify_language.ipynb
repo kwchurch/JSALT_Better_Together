{
 "cells": [
  {
   "cell_type": "code",
   "execution_count": null,
   "id": "b6f4b529-d085-4e00-92c8-40d189a8f546",
   "metadata": {},
   "outputs": [],
   "source": [
    "import numpy as np, os, sys, matplotlib.pyplot as plt, seaborn as sns"
   ]
  }
 ],
 "metadata": {
  "kernelspec": {
   "display_name": "jsalt_env",
   "language": "python",
   "name": "jsalt_env"
  },
  "language_info": {
   "codemirror_mode": {
    "name": "ipython",
    "version": 3
   },
   "file_extension": ".py",
   "mimetype": "text/x-python",
   "name": "python",
   "nbconvert_exporter": "python",
   "pygments_lexer": "ipython3",
   "version": "3.10.4"
  }
 },
 "nbformat": 4,
 "nbformat_minor": 5
}
