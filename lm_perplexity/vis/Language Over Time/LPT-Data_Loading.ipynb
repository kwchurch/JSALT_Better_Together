{
 "cells": [
  {
   "cell_type": "markdown",
   "id": "d17d05c7-2f1c-4a70-b5c8-4aff06908fd9",
   "metadata": {},
   "source": [
    "# Language Properties over Time: Data Loading"
   ]
  },
  {
   "cell_type": "code",
   "execution_count": 7,
   "id": "aa040a48-6d0b-4e5a-a2ff-a13683794dea",
   "metadata": {
    "tags": []
   },
   "outputs": [],
   "source": [
    "%matplotlib widget\n",
    "import numpy as np, os, sys, matplotlib.pyplot as plt, seaborn as sns, pandas, orjson, regex as re\n",
    "from tqdm import tqdm, trange\n",
    "from iso639 import languages\n",
    "from langdetect import detect\n",
    "from mosestokenizer import MosesTokenizer\n",
    "\n",
    "tqdm.pandas()"
   ]
  },
  {
   "cell_type": "markdown",
   "id": "0d0be9fe-3abd-4bd5-9378-526ac7513f1a",
   "metadata": {},
   "source": [
    "## Data Loading"
   ]
  },
  {
   "cell_type": "markdown",
   "id": "77580ba4-3c7f-452c-864d-a3a042b7efb3",
   "metadata": {
    "tags": []
   },
   "source": [
    "### Load PubMed Data"
   ]
  },
  {
   "cell_type": "code",
   "execution_count": 2,
   "id": "95fca4cd-b6bf-40ab-b391-7001aa9bad1b",
   "metadata": {
    "tags": []
   },
   "outputs": [],
   "source": [
    "ids_in_pubmed = np.loadtxt('/rc_scratch/abeb4417/jsalt/semantic_scholar/ids/2022-12-02/database/external_ids/PubMed/sorted_uniq', dtype='int32')\n",
    "ids_in_pubmed = set(ids_in_pubmed)"
   ]
  },
  {
   "cell_type": "markdown",
   "id": "61711d99-5404-4a1c-b7ab-d38524f48405",
   "metadata": {
    "tags": []
   },
   "source": [
    "### Load Abstracts"
   ]
  },
  {
   "cell_type": "code",
   "execution_count": 3,
   "id": "4b7d7950-4e5a-49c6-befd-ff466777d1f6",
   "metadata": {
    "tags": []
   },
   "outputs": [],
   "source": [
    "def load_abstracts(bin_num, sample_size=10000, bin_samples_dir='/projects/abeb4417/jsalt/lm_perplexity/sampling/bin_samples/'):\n",
    "    whitespace_pat = re.compile(r'[\\n|\\t|\\s]+')\n",
    "    \n",
    "    data = []\n",
    "    with open(os.path.join(bin_samples_dir, f'{bin_num:03d}')) as input_sample:\n",
    "        for line in input_sample:\n",
    "            dat = orjson.loads(line)\n",
    "            \n",
    "            abstract = dat['abstract']\n",
    "            abstract = re.sub(whitespace_pat, ' ', abstract)\n",
    "            \n",
    "            data.append({'bin' : bin_num, 'corpusid' : dat['corpusid'], 'abstract' : abstract} | dat['openaccessinfo']['externalids'])\n",
    "\n",
    "            if len(data) >= sample_size:\n",
    "                break\n",
    "        \n",
    "        return data\n",
    "        \n"
   ]
  },
  {
   "cell_type": "code",
   "execution_count": 4,
   "id": "b9652db2-3707-49c6-b562-d9e34da786e4",
   "metadata": {
    "tags": []
   },
   "outputs": [
    {
     "name": "stderr",
     "output_type": "stream",
     "text": [
      "100%|█████████████████████████████████████████████████████████████████████████████████████████████████████████████████████████████████████████████████████████████████████████| 100/100 [01:12<00:00,  1.39it/s]\n"
     ]
    }
   ],
   "source": [
    "bin_data = []\n",
    "for bidx in trange(100):\n",
    "    bin_data.extend(load_abstracts(bidx))\n",
    "    \n",
    "df = pandas.DataFrame.from_records(bin_data)"
   ]
  },
  {
   "cell_type": "code",
   "execution_count": 5,
   "id": "4b944386-04b7-45bb-bfd4-e18db73539f5",
   "metadata": {
    "tags": []
   },
   "outputs": [
    {
     "name": "stderr",
     "output_type": "stream",
     "text": [
      "100%|█████████████████████████████████████████████████████████████████████████████████████████████████████████████████████████████████████████████████████████████| 1000000/1000000 [00:01<00:00, 848062.96it/s]\n"
     ]
    }
   ],
   "source": [
    "df['has_pubmed'] = df['corpusid'].progress_apply(lambda x : x in ids_in_pubmed)"
   ]
  },
  {
   "cell_type": "code",
   "execution_count": null,
   "id": "d1ab1fb8-9b00-4762-8385-dec852f67be5",
   "metadata": {
    "tags": []
   },
   "outputs": [],
   "source": [
    "(df['has_pubmed'] == True).sum() / len(df)"
   ]
  },
  {
   "cell_type": "code",
   "execution_count": null,
   "id": "99c1e566-840b-4726-af15-d5f4ec2fa9d5",
   "metadata": {
    "tags": []
   },
   "outputs": [],
   "source": [
    "pubmed_df = df[df['has_pubmed'] == True]"
   ]
  },
  {
   "cell_type": "code",
   "execution_count": 6,
   "id": "7ed841d9-625e-48d4-8dba-054d1ef4dc21",
   "metadata": {
    "tags": []
   },
   "outputs": [],
   "source": [
    "df.to_csv('lpt_df.csv')"
   ]
  },
  {
   "cell_type": "markdown",
   "id": "42feeb8b-811f-45b1-a2a2-f94514f9e424",
   "metadata": {},
   "source": [
    "### Add Language Data"
   ]
  },
  {
   "cell_type": "code",
   "execution_count": null,
   "id": "3249da2f-f2dc-4d89-b1a9-bbec5e1360ca",
   "metadata": {
    "tags": []
   },
   "outputs": [],
   "source": [
    "def detect_with_error(abstract):\n",
    "\n",
    "\ttry:\n",
    "\t\treturn detect(abstract)\n",
    "\texcept:\n",
    "\t\treturn np.nan"
   ]
  },
  {
   "cell_type": "code",
   "execution_count": null,
   "id": "8f927e71-7ffd-4f34-a8d3-a666c517ad7a",
   "metadata": {
    "tags": []
   },
   "outputs": [],
   "source": [
    "df['langdetect'] = df['abstract'].progress_apply(lambda x : detect_with_error(x))\n",
    "df.to_csv('lpt_df_ld.csv')"
   ]
  },
  {
   "cell_type": "markdown",
   "id": "de9d8cb3-f35d-4f12-8aef-ade2f5d650de",
   "metadata": {},
   "source": [
    "### Tokenize"
   ]
  },
  {
   "cell_type": "code",
   "execution_count": 8,
   "id": "926f8ca5-891d-49ca-86be-9fa75f734ee5",
   "metadata": {
    "tags": []
   },
   "outputs": [
    {
     "name": "stderr",
     "output_type": "stream",
     "text": [
      "100%|███████████████████████████████████████████████████████████████████████████████████████████████████████████████████████████████████████████████████████████████| 1000000/1000000 [06:39<00:00, 2504.32it/s]\n"
     ]
    }
   ],
   "source": [
    "languages = ['en']\n",
    "tokenizers = {}\n",
    "for lang in languages:\n",
    "    tokenizers[lang] = MosesTokenizer(lang)\n",
    "\n",
    "df['moses_tokens'] = df['abstract'].progress_apply(lambda x: tokenizers['en'](x))\n"
   ]
  },
  {
   "cell_type": "code",
   "execution_count": null,
   "id": "a11479ce-a3e9-4cc6-a89f-c2621a24d2e1",
   "metadata": {
    "tags": []
   },
   "outputs": [],
   "source": [
    "df.to_csv('lpt_df_moses.csv')"
   ]
  },
  {
   "cell_type": "markdown",
   "id": "dad1c9e7-e5c9-4673-b91d-7132008ea772",
   "metadata": {},
   "source": [
    "## Other\n"
   ]
  },
  {
   "cell_type": "code",
   "execution_count": null,
   "id": "4f9c0564-0e0d-44ac-b173-320430828716",
   "metadata": {},
   "outputs": [],
   "source": [
    "moses_df['moses_tokens_eval'] = moses_df['moses_tokens'].progress_apply(lambda x : eval(x))"
   ]
  },
  {
   "cell_type": "code",
   "execution_count": null,
   "id": "a8801440-f93d-4068-b22a-a77d5193b8a5",
   "metadata": {},
   "outputs": [],
   "source": [
    "# Fertility: 1/n sum(bert_tokens / total_tokens)\n",
    "def count_continuation(abstract):\n",
    "    tokens = sp.encode(abstract, out_type=str)\n",
    "    return len(tokens) - ''.join(tokens).count('▁')  \n",
    "\n",
    "for i, bidx in tqdm(enumerate(vocabulary_bins), total=len(vocabulary_bins)):\n",
    "    sp = spm.SentencePieceProcessor(model_file=f'spms/{bidx}_abs.model')\n",
    "    pubmed_df[f'num_spm_{bidx}_tokens'] = pubmed_df['abstract'].progress_apply(lambda x : len(sp.encode(x)))\n",
    "    pubmed_df[f'num_spm_{bidx}_continuation_tokens'] = pubmed_df['abstract'].progress_apply(lambda x : count_continuation(x))\n",
    "    \n",
    "pubmed_df['num_moses_tokens'] = pubmed_df['moses_tokens'].progress_apply(lambda x : x.count(',') + 1)"
   ]
  }
 ],
 "metadata": {
  "kernelspec": {
   "display_name": "jsalt_env",
   "language": "python",
   "name": "jsalt_env"
  },
  "language_info": {
   "codemirror_mode": {
    "name": "ipython",
    "version": 3
   },
   "file_extension": ".py",
   "mimetype": "text/x-python",
   "name": "python",
   "nbconvert_exporter": "python",
   "pygments_lexer": "ipython3",
   "version": "3.10.4"
  }
 },
 "nbformat": 4,
 "nbformat_minor": 5
}
